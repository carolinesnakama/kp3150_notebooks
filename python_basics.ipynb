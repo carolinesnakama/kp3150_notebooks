{
 "cells": [
  {
   "cell_type": "markdown",
   "metadata": {},
   "source": [
    "# Python Basics for KP3150\n",
    "\n",
    "In this notebook, we will ~~introduce~~ review some Python commands and resources that will be used during this course. We start with basic commands, then we look into some ``numpy`` resources to handle data (specifically arrays), move to ``matplotlib`` for plotting, and lastly we check out some numerical solvers from ``scipy``. \n",
    "\n",
    "This is supposed to be a reference for the notebooks we will work with. If you are having trouble understanding some functions, you should find them described here.\n",
    "\n",
    "**Summary**\n",
    "\n",
    "- [Basic commands](#basic-commands)\n",
    "    - [Iteration and Sequence](#iteration-and-sequences)\n",
    "    - [Functions](#functions)\n",
    "        - [Lambda Functions](#lambda-functions)\n",
    "- [Numpy](#numpy)\n",
    "    - [Arrays](#arrays)\n",
    "    - [Combining Arrays](#combining-arrays)\n",
    "- [Plotting](#plotting)\n",
    "    - [2D Plots](#2d-plots)\n",
    "    - [3D Plots](#3d-plots)\n",
    "- [Solvers](#solvers)\n"
   ]
  },
  {
   "cell_type": "markdown",
   "metadata": {},
   "source": [
    "### Basic commands"
   ]
  },
  {
   "cell_type": "markdown",
   "metadata": {},
   "source": [
    "#### Iteration and Sequences\n",
    "\n",
    "We begin with the ``for`` loop. Loops can iterate over a list or sequence of numbers. "
   ]
  },
  {
   "cell_type": "code",
   "execution_count": null,
   "metadata": {},
   "outputs": [],
   "source": [
    "A = [\"a\", \"b\", \"c\", \"d\"]\n",
    "for i in A:\n",
    "    print(i)"
   ]
  },
  {
   "cell_type": "markdown",
   "metadata": {},
   "source": [
    "Here we defined a list of strings ``A`` and iterated over it to print each element. \n",
    "\n",
    "We can create lists of any type of object. For example, a list of floats:"
   ]
  },
  {
   "cell_type": "code",
   "execution_count": null,
   "metadata": {},
   "outputs": [],
   "source": [
    "B = [1.2, 4.5, 7.3, 3.6]"
   ]
  },
  {
   "cell_type": "markdown",
   "metadata": {},
   "source": [
    "We can add new elements to the end of a list using the method ``append``."
   ]
  },
  {
   "cell_type": "code",
   "execution_count": null,
   "metadata": {},
   "outputs": [],
   "source": [
    "B.append(2.6)\n",
    "print(B)"
   ]
  },
  {
   "cell_type": "markdown",
   "metadata": {},
   "source": [
    "However, if a numerical sequence follow some kind of pattern, we can use the function ``range`` to define it. We can also directly iterate over it if it does not need to be stored. "
   ]
  },
  {
   "cell_type": "code",
   "execution_count": null,
   "metadata": {},
   "outputs": [],
   "source": [
    "b = 0\n",
    "for i in range(3):\n",
    "    b += i          # this is a short way of writing b = b + i\n",
    "print(b)"
   ]
  },
  {
   "cell_type": "markdown",
   "metadata": {},
   "source": [
    "Why is the result __not__ 6? Let's look at the elements of ``range(3)``:"
   ]
  },
  {
   "cell_type": "code",
   "execution_count": null,
   "metadata": {},
   "outputs": [],
   "source": [
    "for i in range(3):\n",
    "    print(i)"
   ]
  },
  {
   "cell_type": "markdown",
   "metadata": {},
   "source": [
    "In Python, indexing starts at 0. When we define ``range(3)``, we are telling Python to build a numerical sequence that starts at index 0 and ends one index before 3 (has 3 elements).\n",
    "\n",
    "The ``range`` function, however, can be used with other arguments too. Let's take a look at the following output."
   ]
  },
  {
   "cell_type": "code",
   "execution_count": null,
   "metadata": {},
   "outputs": [],
   "source": [
    "for i in range(2,5):\n",
    "    print(i)"
   ]
  },
  {
   "cell_type": "markdown",
   "metadata": {},
   "source": [
    "Here we are saying that we want a numerical sequence that starts at index 2 and ends one index before 5. In Python, the value passed as the end of the sequence is not included."
   ]
  },
  {
   "cell_type": "code",
   "execution_count": null,
   "metadata": {},
   "outputs": [],
   "source": [
    "C = range(2,8,2)\n",
    "print(\"Elements:\", len(C))      #   len is a function that returns the length of a range or list \n",
    "                                #   you can print different objects in the same line by separating them with commas\n",
    "for i in C:\n",
    "    print(i)"
   ]
  },
  {
   "cell_type": "markdown",
   "metadata": {},
   "source": [
    "If we call ``range`` with 3 arguments, the first one is the beginning of the sequence, the second argument is the end of the sequence (not included), and the last argument is the step size. In this case, we built a sequence with 3 elements which starts at index 2, includes even indices until 8 is reached but not included."
   ]
  },
  {
   "cell_type": "markdown",
   "metadata": {},
   "source": [
    "#### Functions\n",
    "\n",
    "Functions are a way of dividing your code into blocks and reuse them. They also make the code more readable and organized. We define a function using the keyword ``def`` and creating a block as follows:"
   ]
  },
  {
   "cell_type": "code",
   "execution_count": null,
   "metadata": {},
   "outputs": [],
   "source": [
    "def hello():\n",
    "    print(\"Hello from KP3150 students!\")"
   ]
  },
  {
   "cell_type": "markdown",
   "metadata": {},
   "source": [
    "When we run this piece of code, we are only registering a function called ``hello``. To use it, we need to call it."
   ]
  },
  {
   "cell_type": "code",
   "execution_count": null,
   "metadata": {},
   "outputs": [],
   "source": [
    "hello()"
   ]
  },
  {
   "cell_type": "markdown",
   "metadata": {},
   "source": [
    "This function takes no arguments (there is nothing between the parenthesis after the function name). We can define functions that take an argument and use information we provide when calling them."
   ]
  },
  {
   "cell_type": "code",
   "execution_count": null,
   "metadata": {},
   "outputs": [],
   "source": [
    "def personalized_hello(name):\n",
    "    print(f\"Hello from KP3150 students, {name}!\")  # This is how you can add the value of a variable to a string (you need the 'f' in front of the string), but it only works for Python 3.6 and later\n",
    "\n",
    "personalized_hello(\"Mary\")"
   ]
  },
  {
   "cell_type": "markdown",
   "metadata": {},
   "source": [
    "With functions, blocks of code can be run and give information back. For that, you use the keyword ``return`` in the end of the function, followed by the information to be returned."
   ]
  },
  {
   "cell_type": "code",
   "execution_count": null,
   "metadata": {},
   "outputs": [],
   "source": [
    "def product(a, b):\n",
    "    return a*b"
   ]
  },
  {
   "cell_type": "markdown",
   "metadata": {},
   "source": [
    "This function takes two numerical arguments and return their product. Try calling it with no arguments and with any two numbers to see what happens."
   ]
  },
  {
   "cell_type": "code",
   "execution_count": null,
   "metadata": {},
   "outputs": [],
   "source": [
    "product()"
   ]
  },
  {
   "cell_type": "markdown",
   "metadata": {},
   "source": [
    "You can store the returned value in a variable:"
   ]
  },
  {
   "cell_type": "code",
   "execution_count": null,
   "metadata": {},
   "outputs": [],
   "source": [
    "p = product(3,4)\n",
    "print(p)"
   ]
  },
  {
   "cell_type": "markdown",
   "metadata": {},
   "source": [
    "A useful feature for defining functions is that you can set default values for arguments. Let's redefine the ``product`` function with a default value for b."
   ]
  },
  {
   "cell_type": "code",
   "execution_count": null,
   "metadata": {},
   "outputs": [],
   "source": [
    "def product(a, b = 2):\n",
    "    return a*b"
   ]
  },
  {
   "cell_type": "markdown",
   "metadata": {},
   "source": [
    "Now, we can call ``product`` with only one argument because ``b`` has a backup value in case the second argument is not passed when this function is called."
   ]
  },
  {
   "cell_type": "code",
   "execution_count": null,
   "metadata": {},
   "outputs": [],
   "source": [
    "product(5)"
   ]
  },
  {
   "cell_type": "markdown",
   "metadata": {},
   "source": [
    "But, we can still normally pass two arguments if would like to set a different value for ``b``."
   ]
  },
  {
   "cell_type": "code",
   "execution_count": null,
   "metadata": {},
   "outputs": [],
   "source": [
    "product(4,3)"
   ]
  },
  {
   "cell_type": "markdown",
   "metadata": {},
   "source": [
    "For built-in functions in Python and its libraries, you can usually find default values in their documentation."
   ]
  },
  {
   "cell_type": "markdown",
   "metadata": {},
   "source": [
    "##### Lambda Functions\n",
    "\n",
    "We can also define short functions inline using ``lambda`` functions. They are called anonymous functions, since we do not define them with a name. Instead, we store an expression that can take several arguments and return its output. \n",
    "\n",
    "The format is \n",
    "\n",
    "*name* = lambda *arg1*, *arg2*,  ..., *argn* : *expression*\n",
    "\n",
    "such as"
   ]
  },
  {
   "cell_type": "code",
   "execution_count": null,
   "metadata": {},
   "outputs": [],
   "source": [
    "prod = lambda a, b : a*b"
   ]
  },
  {
   "cell_type": "markdown",
   "metadata": {},
   "source": [
    "We can now call ``prod`` with two numerical arguments:"
   ]
  },
  {
   "cell_type": "code",
   "execution_count": null,
   "metadata": {},
   "outputs": [],
   "source": [
    "prod(2,3)"
   ]
  },
  {
   "cell_type": "markdown",
   "metadata": {},
   "source": [
    "``lambda`` functions are most useful inside another function. Suppose you need different functions that modify the result of the product of two numbers. You can define the function:"
   ]
  },
  {
   "cell_type": "code",
   "execution_count": null,
   "metadata": {},
   "outputs": [],
   "source": [
    "def mod_product(n):\n",
    "    return lambda a, b : a*b*n"
   ]
  },
  {
   "cell_type": "markdown",
   "metadata": {},
   "source": [
    "This function returns a lambda function that modify $a*b$ by multiplying by ``n``. We can then create different expressions based on different values of ``n`` as follows:"
   ]
  },
  {
   "cell_type": "code",
   "execution_count": null,
   "metadata": {},
   "outputs": [],
   "source": [
    "negative_product  = mod_product(-1)\n",
    "double_product =  mod_product(2)\n",
    "\n",
    "print(negative_product(2,3))\n",
    "print(double_product(2,3))"
   ]
  },
  {
   "cell_type": "markdown",
   "metadata": {},
   "source": [
    "We attributed to ``negative_product`` a lambda function with expression $-1*a*b$ and to ``double_product`` a lambda function that doubles product $a*b$. We then called these functions with two numerical values as arguments and obtained the negative and the double of the product respectively."
   ]
  },
  {
   "cell_type": "markdown",
   "metadata": {},
   "source": [
    "### Numpy\n",
    "\n",
    "``numpy`` is a library for working with arrays, providing many specific functionalities, such as linear algebra and matrix operations. Therefore, we usually use numpy arrays instead of native lists or ranges in Python when working with numbers.\n",
    "\n",
    "Documentation for this library can be found [here](https://numpy.org/doc/stable/index.html)"
   ]
  },
  {
   "cell_type": "markdown",
   "metadata": {},
   "source": [
    "#### Arrays\n",
    "\n",
    "We start by importing the ``numpy`` library:"
   ]
  },
  {
   "cell_type": "code",
   "execution_count": null,
   "metadata": {},
   "outputs": [],
   "source": [
    "import numpy as np    # it is common practice to give a shorter alias to libraries"
   ]
  },
  {
   "cell_type": "markdown",
   "metadata": {},
   "source": [
    "There are several ways we can create numpy arrays. For example, we can convert lists:"
   ]
  },
  {
   "cell_type": "code",
   "execution_count": null,
   "metadata": {},
   "outputs": [],
   "source": [
    "arr = np.array(range(5))\n",
    "print(arr)"
   ]
  },
  {
   "cell_type": "markdown",
   "metadata": {},
   "source": [
    "We can check that ``arr`` is indeed a numpy array by checking its type."
   ]
  },
  {
   "cell_type": "code",
   "execution_count": null,
   "metadata": {},
   "outputs": [],
   "source": [
    "type(arr)"
   ]
  },
  {
   "cell_type": "markdown",
   "metadata": {},
   "source": [
    "A better way of creating numpy arrays that are sequences is by using ``numpy``'s built-in function ``arange``."
   ]
  },
  {
   "cell_type": "code",
   "execution_count": null,
   "metadata": {},
   "outputs": [],
   "source": [
    "arr = np.arange(6)\n",
    "print(arr)"
   ]
  },
  {
   "cell_type": "markdown",
   "metadata": {},
   "source": [
    "Indexing here follows the same rules as native Python ``range`` function discussed above. Likewise, we can also pass start, end and step values"
   ]
  },
  {
   "cell_type": "code",
   "execution_count": null,
   "metadata": {},
   "outputs": [],
   "source": [
    "arr2 = np.arange(3,6,0.5)\n",
    "print(arr2)"
   ]
  },
  {
   "cell_type": "markdown",
   "metadata": {},
   "source": [
    "Note that we do not always need to use integer numbers. \n",
    "\n",
    "We can also create arrays from functions by just passgin the arrays as follows:"
   ]
  },
  {
   "cell_type": "code",
   "execution_count": null,
   "metadata": {},
   "outputs": [],
   "source": [
    "prod(arr,arr2)"
   ]
  },
  {
   "cell_type": "markdown",
   "metadata": {},
   "source": [
    "However, some functions do not accept arrays as arguments. For example, the logarithmic function. Mathematical functions need to be imported from the ``math`` library. Let's start with that."
   ]
  },
  {
   "cell_type": "code",
   "execution_count": null,
   "metadata": {},
   "outputs": [],
   "source": [
    "from math import log    # this is the syntax we can use when we do not wish to import the whole package but only a function "
   ]
  },
  {
   "cell_type": "markdown",
   "metadata": {},
   "source": [
    "If we try to pass ``arr2`` as argument to ``log``, we get the following error:"
   ]
  },
  {
   "cell_type": "code",
   "execution_count": null,
   "metadata": {},
   "outputs": [],
   "source": [
    "log(arr2)"
   ]
  },
  {
   "cell_type": "markdown",
   "metadata": {},
   "source": [
    "But what can we do if we still need to build an array using the ``log`` function?\n",
    "\n",
    "One way of doing that is to build a list by passing each element seperately and convert it to a numpy array. "
   ]
  },
  {
   "cell_type": "code",
   "execution_count": null,
   "metadata": {},
   "outputs": [],
   "source": [
    "list_log = [log(i) for i in arr2]    # this is a compact syntax for creating a list by passing each element of an array to a function\n",
    "print(list_log)\n",
    "print(type(list_log))\n",
    "array_log = np.array(list_log)\n",
    "print(array_log)\n",
    "print(type(array_log))"
   ]
  },
  {
   "cell_type": "markdown",
   "metadata": {},
   "source": [
    "We could also have written everything in one line as follows"
   ]
  },
  {
   "cell_type": "code",
   "execution_count": null,
   "metadata": {},
   "outputs": [],
   "source": [
    "array_log = np.array([log(i) for i in arr2])\n",
    "print(array_log)"
   ]
  },
  {
   "cell_type": "markdown",
   "metadata": {},
   "source": [
    "``numpy`` also have specific functions to build special types of arrays, such as an array with zeros or ones."
   ]
  },
  {
   "cell_type": "code",
   "execution_count": null,
   "metadata": {},
   "outputs": [],
   "source": [
    "print(np.zeros(5))\n",
    "print(np.ones(10))"
   ]
  },
  {
   "cell_type": "markdown",
   "metadata": {},
   "source": [
    "Here we created an array of zeros with 5 elements and an array of ones with 10 elements. "
   ]
  },
  {
   "cell_type": "markdown",
   "metadata": {},
   "source": [
    "#### Combining Arrays\n",
    "\n",
    "Sometimes we need to combine arrays. For instance, we can take two arrays of size 5 and create a matrix of size 2 $\\times$ 5 or a longer array of size 10. The function we use for this job is ``concatenate``."
   ]
  },
  {
   "cell_type": "code",
   "execution_count": null,
   "metadata": {},
   "outputs": [],
   "source": [
    "np.concatenate((arr,arr2))"
   ]
  },
  {
   "cell_type": "markdown",
   "metadata": {},
   "source": [
    "Here we created a long array by concatenating ``arr`` and ``arr2``. \n",
    "\n",
    "The arrays we have seen so far are one-dimensional arrays. They can act as vectors but there is not the concept of row or column vector for one-dimensional arrays. Therefore, when we concatenate two one-dimensional arrays of sizes $n$ and $m$, we put them together in a series and get an array of size $n+m$.\n",
    "\n",
    "If we want to combine two or more one-dimensional arrays into two-dimensional matrices, we need to turn them into two-dimensional arrays first."
   ]
  },
  {
   "cell_type": "code",
   "execution_count": null,
   "metadata": {},
   "outputs": [],
   "source": [
    "vec = np.reshape(arr,(1,-1))     # The second argument is the shape of the matrix (rows,columns)\n",
    "vec2 = np.reshape(arr2, (1,-1))  # -1 is an undefined value. It means that the number of columns is determined by \n",
    "                                 # the given number of rows and the original size of the first argument\n",
    "print(vec)\n",
    "print(vec2)"
   ]
  },
  {
   "cell_type": "markdown",
   "metadata": {},
   "source": [
    "Note that the arrays have double square brackets now. So that means they are now row vectors or matrices of size 1 $\\times$ 6.\n",
    "\n",
    "If we want ``arr`` and ``arr2`` to be column vectors (6 $\\times$ 1), we can define:"
   ]
  },
  {
   "cell_type": "code",
   "execution_count": null,
   "metadata": {},
   "outputs": [],
   "source": [
    "cvec = np.reshape(arr,(-1,1))\n",
    "cvec2 = np.reshape(arr2,(-1,1))\n",
    "\n",
    "print(cvec)\n",
    "print(cvec2)"
   ]
  },
  {
   "cell_type": "markdown",
   "metadata": {},
   "source": [
    "We can now use ``concatenate`` to combine these vectors to create a 2 $\\times$ 6 and a 6 $\\times$ 2 matrices. "
   ]
  },
  {
   "cell_type": "code",
   "execution_count": null,
   "metadata": {},
   "outputs": [],
   "source": [
    "print(np.concatenate((vec, vec2), axis = 0))\n",
    "print(np.concatenate((cvec, cvec2), axis = 1))"
   ]
  },
  {
   "cell_type": "markdown",
   "metadata": {},
   "source": [
    "Note that we are passing a new argument called ``axis``, which tells the function how we should put these matrices together. \n",
    "\n",
    "For ``axis`` = 0, the number of rows are added and the columns will be kept the same. Therefore, the matrices being concatenated must have the same number of columns in this case. \n",
    "\n",
    "For ``axis`` = 1, the number of rows is kept and the matrices are concatenated side by side.\n",
    "\n",
    "If we do not pass the ``axis`` argument, the default value is 0."
   ]
  },
  {
   "cell_type": "code",
   "execution_count": null,
   "metadata": {},
   "outputs": [],
   "source": [
    "print(np.concatenate((cvec,cvec2)))"
   ]
  },
  {
   "cell_type": "markdown",
   "metadata": {},
   "source": [
    "But what happens if the dimension that must match does not match?"
   ]
  },
  {
   "cell_type": "code",
   "execution_count": null,
   "metadata": {},
   "outputs": [],
   "source": [
    "np.concatenate((cvec, vec), axis = 0)"
   ]
  },
  {
   "cell_type": "markdown",
   "metadata": {},
   "source": [
    "As expected, an error is thrown letting you know about the issue."
   ]
  },
  {
   "cell_type": "markdown",
   "metadata": {},
   "source": [
    "### Plotting\n",
    "\n",
    "In Python, plotting graphs is done using the library ``matplotlib``. It is a powerful tool and many types of graphs and charts can be created with this library. But here we will look into basic 2D and 3D plotting features. \n",
    "\n",
    "Documentation for this library can be found [here](https://matplotlib.org/stable/index.html)."
   ]
  },
  {
   "cell_type": "markdown",
   "metadata": {},
   "source": [
    "#### 2D Plots"
   ]
  },
  {
   "cell_type": "markdown",
   "metadata": {},
   "source": [
    "#### 3D Plots"
   ]
  },
  {
   "cell_type": "markdown",
   "metadata": {},
   "source": [
    "### Solvers"
   ]
  }
 ],
 "metadata": {
  "interpreter": {
   "hash": "0370ac1f960e2833370989c9a7c925682c8585d2b59fdb1ca28374c7f7cc503f"
  },
  "kernelspec": {
   "display_name": "Python 3.8.5 64-bit ('base': conda)",
   "language": "python",
   "name": "python3"
  },
  "language_info": {
   "codemirror_mode": {
    "name": "ipython",
    "version": 3
   },
   "file_extension": ".py",
   "mimetype": "text/x-python",
   "name": "python",
   "nbconvert_exporter": "python",
   "pygments_lexer": "ipython3",
   "version": "3.8.5"
  },
  "orig_nbformat": 4
 },
 "nbformat": 4,
 "nbformat_minor": 2
}
