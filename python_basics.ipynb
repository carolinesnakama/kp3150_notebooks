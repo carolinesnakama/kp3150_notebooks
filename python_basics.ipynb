{
 "cells": [
  {
   "cell_type": "markdown",
   "metadata": {},
   "source": [
    "# Python Basics for KP3150\n",
    "\n",
    "In this notebook, we will ~~introduce~~ review some Python commands and resources that will be used during this course. We start with basic commands, then we look into some ``numpy`` resources to handle data (specifically arrays), move to ``matplotlib`` for plotting, and lastly we check out some numerical solvers from ``scipy``. \n",
    "\n",
    "This is supposed to be a reference for the notebooks we will work with. If you are having trouble understanding some functions, you should find them described here.\n",
    "\n",
    "**Summary**\n",
    "\n",
    "- [Basic commands](#basic-commands)\n",
    "    - [Iteration and Sequence](#iteration-and-sequences)\n",
    "    - [Functions](#functions)\n",
    "        - [Lambda Functions](#lambda-functions)\n",
    "- [Numpy](#numpy)\n",
    "    - [Arrays](#arrays)\n",
    "    - [Combining Arrays](#combining-arrays)\n",
    "- [Plotting](#plotting)\n",
    "    - [2D Plots](#2d-plots)\n",
    "    - [3D Plots](#3d-plots)\n",
    "- [Solvers](#solvers)\n",
    "    - [fsolve](#fsolve)\n",
    "    - [minimize](#minimize)\n",
    "    - [curve_fit](#curve-fit)\n"
   ]
  },
  {
   "cell_type": "markdown",
   "metadata": {},
   "source": [
    "<a name=\"basic-commands\"></a>\n",
    "### Basic commands"
   ]
  },
  {
   "cell_type": "markdown",
   "metadata": {},
   "source": [
    "<a name=\"iterations-and-sequences\"></a>\n",
    "#### Iteration and Sequences\n",
    "\n",
    "We begin with the ``for`` loop. Loops can iterate over a list or sequence of numbers. "
   ]
  },
  {
   "cell_type": "code",
   "execution_count": null,
   "metadata": {},
   "outputs": [],
   "source": [
    "A = [\"a\", \"b\", \"c\", \"d\"]\n",
    "for i in A:\n",
    "    print(i)"
   ]
  },
  {
   "cell_type": "markdown",
   "metadata": {},
   "source": [
    "Here we defined a list of strings ``A`` and iterated over it to print each element. \n",
    "\n",
    "We can create lists of any type of object. For example, a list of floats:"
   ]
  },
  {
   "cell_type": "code",
   "execution_count": null,
   "metadata": {},
   "outputs": [],
   "source": [
    "B = [1.2, 4.5, 7.3, 3.6]"
   ]
  },
  {
   "cell_type": "markdown",
   "metadata": {},
   "source": [
    "We can add new elements to the end of a list using the method ``append``."
   ]
  },
  {
   "cell_type": "code",
   "execution_count": null,
   "metadata": {},
   "outputs": [],
   "source": [
    "B.append(2.6)\n",
    "print(B)"
   ]
  },
  {
   "cell_type": "markdown",
   "metadata": {},
   "source": [
    "However, if a numerical sequence follow some kind of pattern, we can use the function ``range`` to define it. We can also directly iterate over it if it does not need to be stored. "
   ]
  },
  {
   "cell_type": "code",
   "execution_count": null,
   "metadata": {},
   "outputs": [],
   "source": [
    "b = 0\n",
    "for i in range(3):\n",
    "    b += i          # this is a short way of writing b = b + i\n",
    "print(b)"
   ]
  },
  {
   "cell_type": "markdown",
   "metadata": {},
   "source": [
    "Why is the result __not__ 6? Let's look at the elements of ``range(3)``:"
   ]
  },
  {
   "cell_type": "code",
   "execution_count": null,
   "metadata": {},
   "outputs": [],
   "source": [
    "for i in range(3):\n",
    "    print(i)"
   ]
  },
  {
   "cell_type": "markdown",
   "metadata": {},
   "source": [
    "In Python, indexing starts at 0. When we define ``range(3)``, we are telling Python to build a numerical sequence that starts at index 0 and ends one index before 3 (has 3 elements).\n",
    "\n",
    "The ``range`` function, however, can be used with other arguments too. Let's take a look at the following output."
   ]
  },
  {
   "cell_type": "code",
   "execution_count": null,
   "metadata": {},
   "outputs": [],
   "source": [
    "for i in range(2,5):\n",
    "    print(i)"
   ]
  },
  {
   "cell_type": "markdown",
   "metadata": {},
   "source": [
    "Here we are saying that we want a numerical sequence that starts at index 2 and ends one index before 5. In Python, the value passed as the end of the sequence is not included."
   ]
  },
  {
   "cell_type": "code",
   "execution_count": null,
   "metadata": {},
   "outputs": [],
   "source": [
    "C = range(2,8,2)\n",
    "print(\"Elements:\", len(C))      #   len is a function that returns the length of a range or list \n",
    "                                #   you can print different objects in the same line by separating them with commas\n",
    "for i in C:\n",
    "    print(i)"
   ]
  },
  {
   "cell_type": "markdown",
   "metadata": {},
   "source": [
    "If we call ``range`` with 3 arguments, the first one is the beginning of the sequence, the second argument is the end of the sequence (not included), and the last argument is the step size. In this case, we built a sequence with 3 elements which starts at index 2, includes even indices until 8 is reached but not included."
   ]
  },
  {
   "cell_type": "markdown",
   "metadata": {},
   "source": [
    "<a name=\"functions\"></a>\n",
    "#### Functions\n",
    "\n",
    "Functions are a way of dividing your code into blocks and reuse them. They also make the code more readable and organized. We define a function using the keyword ``def`` and creating a block as follows:"
   ]
  },
  {
   "cell_type": "code",
   "execution_count": null,
   "metadata": {},
   "outputs": [],
   "source": [
    "def hello():\n",
    "    print(\"Hello from KP3150 students!\")"
   ]
  },
  {
   "cell_type": "markdown",
   "metadata": {},
   "source": [
    "When we run this piece of code, we are only registering a function called ``hello``. To use it, we need to call it."
   ]
  },
  {
   "cell_type": "code",
   "execution_count": null,
   "metadata": {},
   "outputs": [],
   "source": [
    "hello()"
   ]
  },
  {
   "cell_type": "markdown",
   "metadata": {},
   "source": [
    "This function takes no arguments (there is nothing between the parenthesis after the function name). We can define functions that take an argument and use information we provide when calling them."
   ]
  },
  {
   "cell_type": "code",
   "execution_count": null,
   "metadata": {},
   "outputs": [],
   "source": [
    "def personalized_hello(name):\n",
    "    print(f\"Hello from KP3150 students, {name}!\")  # This is how you can add the value of a variable to a string (you need the 'f' in front of the string), but it only works for Python 3.6 and later\n",
    "\n",
    "personalized_hello(\"Mary\")"
   ]
  },
  {
   "cell_type": "markdown",
   "metadata": {},
   "source": [
    "With functions, blocks of code can be run and give information back. For that, you use the keyword ``return`` in the end of the function, followed by the information to be returned."
   ]
  },
  {
   "cell_type": "code",
   "execution_count": null,
   "metadata": {},
   "outputs": [],
   "source": [
    "def product(a, b):\n",
    "    return a*b"
   ]
  },
  {
   "cell_type": "markdown",
   "metadata": {},
   "source": [
    "This function takes two numerical arguments and return their product. Try calling it with no arguments and with any two numbers to see what happens."
   ]
  },
  {
   "cell_type": "code",
   "execution_count": null,
   "metadata": {},
   "outputs": [],
   "source": [
    "product()"
   ]
  },
  {
   "cell_type": "markdown",
   "metadata": {},
   "source": [
    "You can store the returned value in a variable:"
   ]
  },
  {
   "cell_type": "code",
   "execution_count": null,
   "metadata": {},
   "outputs": [],
   "source": [
    "p = product(3,4)\n",
    "print(p)"
   ]
  },
  {
   "cell_type": "markdown",
   "metadata": {},
   "source": [
    "A useful feature for defining functions is that you can set default values for arguments. Let's redefine the ``product`` function with a default value for b."
   ]
  },
  {
   "cell_type": "code",
   "execution_count": null,
   "metadata": {},
   "outputs": [],
   "source": [
    "def product(a, b = 2):\n",
    "    return a*b"
   ]
  },
  {
   "cell_type": "markdown",
   "metadata": {},
   "source": [
    "Now, we can call ``product`` with only one argument because ``b`` has a backup value in case the second argument is not passed when this function is called."
   ]
  },
  {
   "cell_type": "code",
   "execution_count": null,
   "metadata": {},
   "outputs": [],
   "source": [
    "product(5)"
   ]
  },
  {
   "cell_type": "markdown",
   "metadata": {},
   "source": [
    "But, we can still normally pass two arguments if would like to set a different value for ``b``."
   ]
  },
  {
   "cell_type": "code",
   "execution_count": null,
   "metadata": {},
   "outputs": [],
   "source": [
    "product(4,3)"
   ]
  },
  {
   "cell_type": "markdown",
   "metadata": {},
   "source": [
    "For built-in functions in Python and its libraries, you can usually find default values in their documentation."
   ]
  },
  {
   "cell_type": "markdown",
   "metadata": {},
   "source": [
    "<a name=\"lambda-functions\"></a>\n",
    "##### Lambda Functions\n",
    "\n",
    "We can also define short functions inline using ``lambda`` functions. They are called anonymous functions, since we do not define them with a name. Instead, we store an expression that can take several arguments and return its output. \n",
    "\n",
    "The format is \n",
    "\n",
    "*name* = lambda *arg1*, *arg2*,  ..., *argn* : *expression*\n",
    "\n",
    "such as"
   ]
  },
  {
   "cell_type": "code",
   "execution_count": null,
   "metadata": {},
   "outputs": [],
   "source": [
    "prod = lambda a, b : a*b"
   ]
  },
  {
   "cell_type": "markdown",
   "metadata": {},
   "source": [
    "We can now call ``prod`` with two numerical arguments:"
   ]
  },
  {
   "cell_type": "code",
   "execution_count": null,
   "metadata": {},
   "outputs": [],
   "source": [
    "prod(2,3)"
   ]
  },
  {
   "cell_type": "markdown",
   "metadata": {},
   "source": [
    "``lambda`` functions are most useful inside another function. Suppose you need different functions that modify the result of the product of two numbers. You can define the function:"
   ]
  },
  {
   "cell_type": "code",
   "execution_count": null,
   "metadata": {},
   "outputs": [],
   "source": [
    "def mod_product(n):\n",
    "    return lambda a, b : a*b*n"
   ]
  },
  {
   "cell_type": "markdown",
   "metadata": {},
   "source": [
    "This function returns a lambda function that modify $a*b$ by multiplying by ``n``. We can then create different expressions based on different values of ``n`` as follows:"
   ]
  },
  {
   "cell_type": "code",
   "execution_count": null,
   "metadata": {},
   "outputs": [],
   "source": [
    "negative_product  = mod_product(-1)\n",
    "double_product =  mod_product(2)\n",
    "\n",
    "print(negative_product(2,3))\n",
    "print(double_product(2,3))"
   ]
  },
  {
   "cell_type": "markdown",
   "metadata": {},
   "source": [
    "We attributed to ``negative_product`` a lambda function with expression $-1*a*b$ and to ``double_product`` a lambda function that doubles product $a*b$. We then called these functions with two numerical values as arguments and obtained the negative and the double of the product respectively."
   ]
  },
  {
   "cell_type": "markdown",
   "metadata": {},
   "source": [
    "<a name=\"numpy\"></a>\n",
    "### Numpy\n",
    "\n",
    "``numpy`` is a library for working with arrays, providing many specific functionalities, such as linear algebra and matrix operations. Therefore, we usually use numpy arrays instead of native lists or ranges in Python when working with numbers.\n",
    "\n",
    "Documentation for this library can be found [here](https://numpy.org/doc/stable/index.html)"
   ]
  },
  {
   "cell_type": "markdown",
   "metadata": {},
   "source": [
    "<a name=\"arrays\"></a>\n",
    "#### Arrays\n",
    "\n",
    "We start by importing the ``numpy`` library:"
   ]
  },
  {
   "cell_type": "code",
   "execution_count": null,
   "metadata": {},
   "outputs": [],
   "source": [
    "import numpy as np    # it is common practice to give a shorter alias to libraries"
   ]
  },
  {
   "cell_type": "markdown",
   "metadata": {},
   "source": [
    "There are several ways we can create numpy arrays. For example, we can convert lists:"
   ]
  },
  {
   "cell_type": "code",
   "execution_count": null,
   "metadata": {},
   "outputs": [],
   "source": [
    "arr = np.array(range(5))\n",
    "print(arr)"
   ]
  },
  {
   "cell_type": "markdown",
   "metadata": {},
   "source": [
    "We can check that ``arr`` is indeed a numpy array by checking its type."
   ]
  },
  {
   "cell_type": "code",
   "execution_count": null,
   "metadata": {},
   "outputs": [],
   "source": [
    "type(arr)"
   ]
  },
  {
   "cell_type": "markdown",
   "metadata": {},
   "source": [
    "A better way of creating numpy arrays that are sequences is by using ``numpy``'s built-in function ``arange``."
   ]
  },
  {
   "cell_type": "code",
   "execution_count": null,
   "metadata": {},
   "outputs": [],
   "source": [
    "arr = np.arange(6)\n",
    "print(arr)"
   ]
  },
  {
   "cell_type": "markdown",
   "metadata": {},
   "source": [
    "Indexing here follows the same rules as native Python ``range`` function discussed above. Likewise, we can also pass start, end and step values"
   ]
  },
  {
   "cell_type": "code",
   "execution_count": null,
   "metadata": {},
   "outputs": [],
   "source": [
    "arr2 = np.arange(3,6,0.5)\n",
    "print(arr2)"
   ]
  },
  {
   "cell_type": "markdown",
   "metadata": {},
   "source": [
    "Note that we do not always need to use integer numbers. \n",
    "\n",
    "We can also create arrays from functions by just passgin the arrays as follows:"
   ]
  },
  {
   "cell_type": "code",
   "execution_count": null,
   "metadata": {},
   "outputs": [],
   "source": [
    "prod(arr,arr2)"
   ]
  },
  {
   "cell_type": "markdown",
   "metadata": {},
   "source": [
    "However, some functions do not accept arrays as arguments. For example, the logarithmic function. Mathematical functions need to be imported from the ``math`` library. Let's start with that."
   ]
  },
  {
   "cell_type": "code",
   "execution_count": null,
   "metadata": {},
   "outputs": [],
   "source": [
    "from math import log    # this is the syntax we can use when we do not wish to import the whole package but only a function "
   ]
  },
  {
   "cell_type": "markdown",
   "metadata": {},
   "source": [
    "If we try to pass ``arr2`` as argument to ``log``, we get the following error:"
   ]
  },
  {
   "cell_type": "code",
   "execution_count": null,
   "metadata": {},
   "outputs": [],
   "source": [
    "log(arr2)"
   ]
  },
  {
   "cell_type": "markdown",
   "metadata": {},
   "source": [
    "But what can we do if we still need to build an array using the ``log`` function?\n",
    "\n",
    "One way of doing that is to build a list by passing each element seperately and convert it to a numpy array. "
   ]
  },
  {
   "cell_type": "code",
   "execution_count": null,
   "metadata": {},
   "outputs": [],
   "source": [
    "list_log = [log(i) for i in arr2]    # this is a compact syntax for creating a list by passing each element of an array to a function\n",
    "print(list_log)\n",
    "print(type(list_log))\n",
    "array_log = np.array(list_log)\n",
    "print(array_log)\n",
    "print(type(array_log))"
   ]
  },
  {
   "cell_type": "markdown",
   "metadata": {},
   "source": [
    "We could also have written everything in one line as follows"
   ]
  },
  {
   "cell_type": "code",
   "execution_count": null,
   "metadata": {},
   "outputs": [],
   "source": [
    "array_log = np.array([log(i) for i in arr2])\n",
    "print(array_log)"
   ]
  },
  {
   "cell_type": "markdown",
   "metadata": {},
   "source": [
    "``numpy`` also have specific functions to build special types of arrays, such as arrays of only zeros or ones."
   ]
  },
  {
   "cell_type": "code",
   "execution_count": null,
   "metadata": {},
   "outputs": [],
   "source": [
    "print(np.zeros(5))\n",
    "print(np.ones(10))"
   ]
  },
  {
   "cell_type": "markdown",
   "metadata": {},
   "source": [
    "<a name=\"combining-arrays\"></a>\n",
    "#### Combining Arrays\n",
    "\n",
    "Sometimes we need to combine arrays. For instance, we can take two arrays of size 5 and create a matrix of size 2 $\\times$ 5 or a longer array of size 10. The function we use for this job is ``concatenate``."
   ]
  },
  {
   "cell_type": "code",
   "execution_count": null,
   "metadata": {},
   "outputs": [],
   "source": [
    "np.concatenate((arr,arr2))"
   ]
  },
  {
   "cell_type": "markdown",
   "metadata": {},
   "source": [
    "Here we created a long array by concatenating ``arr`` and ``arr2``. \n",
    "\n",
    "The arrays we have seen so far are one-dimensional arrays. They can act as vectors but there is not the concept of row or column vector for one-dimensional arrays. Therefore, when we concatenate two one-dimensional arrays of sizes $n$ and $m$, we put them together in a series and get an array of size $n+m$.\n",
    "\n",
    "If we want to combine two or more one-dimensional arrays into two-dimensional matrices, we need to turn them into two-dimensional arrays first."
   ]
  },
  {
   "cell_type": "code",
   "execution_count": null,
   "metadata": {},
   "outputs": [],
   "source": [
    "vec = np.reshape(arr,(1,-1))     # The second argument is the shape of the matrix (rows,columns)\n",
    "vec2 = np.reshape(arr2, (1,-1))  # -1 is an undefined value. It means that the number of columns is determined by \n",
    "                                 # the given number of rows and the original size of the first argument\n",
    "print(vec)\n",
    "print(vec2)"
   ]
  },
  {
   "cell_type": "markdown",
   "metadata": {},
   "source": [
    "Note that the arrays have double square brackets now. So that means they are now row vectors or matrices of size 1 $\\times$ 6.\n",
    "\n",
    "If we want ``arr`` and ``arr2`` to be column vectors (6 $\\times$ 1), we can define:"
   ]
  },
  {
   "cell_type": "code",
   "execution_count": null,
   "metadata": {},
   "outputs": [],
   "source": [
    "cvec = np.reshape(arr,(-1,1))\n",
    "cvec2 = np.reshape(arr2,(-1,1))\n",
    "\n",
    "print(cvec)\n",
    "print(cvec2)"
   ]
  },
  {
   "cell_type": "markdown",
   "metadata": {},
   "source": [
    "We can now use ``concatenate`` to combine these vectors to create a 2 $\\times$ 6 and a 6 $\\times$ 2 matrices. "
   ]
  },
  {
   "cell_type": "code",
   "execution_count": null,
   "metadata": {},
   "outputs": [],
   "source": [
    "print(np.concatenate((vec, vec2), axis = 0))\n",
    "print(np.concatenate((cvec, cvec2), axis = 1))"
   ]
  },
  {
   "cell_type": "markdown",
   "metadata": {},
   "source": [
    "Note that we are passing a new argument called ``axis``, which tells the function how we should put these matrices together. \n",
    "\n",
    "For ``axis`` = 0, the number of rows are added and the columns will be kept the same. Therefore, the matrices being concatenated must have the same number of columns in this case. \n",
    "\n",
    "For ``axis`` = 1, the number of rows is kept and the matrices are concatenated side by side.\n",
    "\n",
    "If we do not pass the ``axis`` argument, the default value is 0."
   ]
  },
  {
   "cell_type": "code",
   "execution_count": null,
   "metadata": {},
   "outputs": [],
   "source": [
    "print(np.concatenate((cvec,cvec2)))"
   ]
  },
  {
   "cell_type": "markdown",
   "metadata": {},
   "source": [
    "But what happens if the dimension that must match does not?"
   ]
  },
  {
   "cell_type": "code",
   "execution_count": null,
   "metadata": {},
   "outputs": [],
   "source": [
    "np.concatenate((cvec, vec), axis = 0)"
   ]
  },
  {
   "cell_type": "markdown",
   "metadata": {},
   "source": [
    "As expected, an error is thrown letting you know about the issue (**remember to always read the error message**)."
   ]
  },
  {
   "cell_type": "markdown",
   "metadata": {},
   "source": [
    "<a name=\"plotting\"></a>\n",
    "### Plotting\n",
    "\n",
    "In Python, plotting graphs is done using the library ``matplotlib``. It is a powerful tool and many types of graphs and charts can be created with this library. But here we will look into basic 2D and 3D plotting features. \n",
    "\n",
    "Documentation for this library can be found [here](https://matplotlib.org/stable/index.html).\n",
    "\n",
    "---\n",
    "**NOTE**: If you are writing a Python script to run from an IDE or the terminal, plotting should work normally with the functions described here. However, when we plot in a Jupyter notebook, how it works depend on the environment being used. In Anaconda, we are able to interact with the plot, such as zooming in and changing elements after the plot is created. In Google colab, plots are static and cannot do that. Read the comments in the next code block and set up the first line according to your environment.\n",
    "\n",
    "---"
   ]
  },
  {
   "cell_type": "markdown",
   "metadata": {},
   "source": [
    "<a name=\"2d-plots\"></a>\n",
    "#### 2D Plots\n",
    "\n",
    "As always, we need to begin by importing the library."
   ]
  },
  {
   "cell_type": "code",
   "execution_count": null,
   "metadata": {},
   "outputs": [],
   "source": [
    "%matplotlib notebook\n",
    "# %matplotlib inline\n",
    "# the lines above is only required for plotting using Jupyter notebook. If you're writing a script, it's not necessary\n",
    "# if you are using Anaconda, keep the first line and comment out the second one\n",
    "# if you are using Google colab, comment out the first line and keep the second one\n",
    "# if you are using a different environment, try them both and see how it works\n",
    "\n",
    "import matplotlib.pyplot as plt\n",
    "import numpy as np    # in case you are starting from here and haven't imported it yet"
   ]
  },
  {
   "cell_type": "markdown",
   "metadata": {},
   "source": [
    "Note that we are not importing the entire ``matplotlib`` library, only a smaller set of resources that we will use. To avoid having to write ``matplotlib.pyplot`` every time, we use the standard alias ``plt``.\n",
    "\n",
    "Now, let's create the data that we will plot."
   ]
  },
  {
   "cell_type": "code",
   "execution_count": null,
   "metadata": {},
   "outputs": [],
   "source": [
    "power = lambda x, n : x**n   # ** is the symbol for raising a number to the power of n. Most languages, however, use ^\n",
    "xdata = np.arange(-5,5.2,0.2)\n",
    "ydata = power(xdata, 2)\n",
    "ydata2 = power(xdata, 3)"
   ]
  },
  {
   "cell_type": "markdown",
   "metadata": {},
   "source": [
    "We defined a function that takes a two numbers and raises the first one to the power of the second. We then defined a range for our independent variable $x$ and created two ranges of dependent variables $y$, one being the square of $x$ and the other the cube of $x$. \n",
    "\n",
    "Now that we have data to plot, let's do it. First, we need to create a figure with subplots."
   ]
  },
  {
   "cell_type": "code",
   "execution_count": null,
   "metadata": {},
   "outputs": [],
   "source": [
    "fig, ax = plt.subplots(1,2) "
   ]
  },
  {
   "cell_type": "markdown",
   "metadata": {},
   "source": [
    "The figure is the area where the subplots are. A subplot consists of its elements, such as axis, lines and points representing the data used, legend and so on. \n",
    "\n",
    "When we call ``subplots``, we passed two arguments. The first number is how many rows of subplots we want in the figure, the sencond is the number of columns of subplots, like a matrix. Here, the figure object is stored in ``fig``, while the plots are stored in ``ax`` as an array.\n",
    "\n",
    "To add elements to the subplots, we need to specify the subplot with the corresponding index and call a method. Let's add the data we have to the subplots as lines."
   ]
  },
  {
   "cell_type": "code",
   "execution_count": null,
   "metadata": {},
   "outputs": [],
   "source": [
    "ax[0].plot(xdata, ydata, label=\"x**2\")\n",
    "ax[1].scatter(xdata, ydata2, label=\"x**3\")"
   ]
  },
  {
   "cell_type": "markdown",
   "metadata": {},
   "source": [
    "Note that we used different methods for each subplot. In the first subplot, we used ``plot`` to plot $x^2$ as a continuous line, while in the second one we used ``scatter`` to add only the points we used to calculate $x^3$. \n",
    "\n",
    "Both methods take as first argument the data points of corresponding to the x-axis and as second argument the corresponding $y$ points. \n",
    "\n",
    "We also passed an extra argument called ``label`` that gives the data series a name. There are several properties we can define for the date series. The documentation pages for both [plot](https://matplotlib.org/stable/api/_as_gen/matplotlib.pyplot.plot.html) and [scatter](https://matplotlib.org/stable/api/_as_gen/matplotlib.pyplot.scatter.html) methods have further details.\n",
    "\n",
    "We can now add other elements to both subplots, such as legend and labels."
   ]
  },
  {
   "cell_type": "code",
   "execution_count": null,
   "metadata": {},
   "outputs": [],
   "source": [
    "ax[0].set_xlabel(\"x\")\n",
    "ax[0].set_ylabel(\"y\")\n",
    "ax[0].legend()\n",
    "\n",
    "ax[1].set_xlabel(\"x\")\n",
    "ax[1].set_ylabel(\"y\")\n",
    "ax[1].legend()"
   ]
  },
  {
   "cell_type": "markdown",
   "metadata": {},
   "source": [
    "The first two methods define the name of the x- and y-axis respectively. ``legend`` shows the box with identification of each data series.\n",
    "\n",
    "Note that the y-axis of the second subplot overlaps with the first subplot. An easy way to fix this issue is use the function ``tight_layout``, which finds the best fit for all subplots within the figure. "
   ]
  },
  {
   "cell_type": "code",
   "execution_count": null,
   "metadata": {},
   "outputs": [],
   "source": [
    "plt.tight_layout()"
   ]
  },
  {
   "cell_type": "markdown",
   "metadata": {},
   "source": [
    "---\n",
    "If the interactive plotting did not work (for example, because you are in the google colab enviroment), here is a code block with all the plotting commands. The whole figure is assembled and displayed when all commands are run sequentially in the same code block. \n",
    "\n",
    "**Remember to change the first line of the first code block of this section to** ``%matplotlib inline``!"
   ]
  },
  {
   "cell_type": "code",
   "execution_count": null,
   "metadata": {},
   "outputs": [],
   "source": [
    "fig, ax = plt.subplots(1,2) \n",
    "ax[0].plot(xdata, ydata, label=\"x**2\")\n",
    "ax[1].scatter(xdata, ydata2, label=\"x**3\")\n",
    "\n",
    "ax[0].set_xlabel(\"x\")\n",
    "ax[0].set_ylabel(\"y\")\n",
    "ax[0].legend()\n",
    "\n",
    "ax[1].set_xlabel(\"x\")\n",
    "ax[1].set_ylabel(\"y\")\n",
    "ax[1].legend()\n",
    "\n",
    "plt.tight_layout()\n",
    "plt.show()    # sometimes the figure might not show up without this command"
   ]
  },
  {
   "cell_type": "markdown",
   "metadata": {},
   "source": [
    "---"
   ]
  },
  {
   "cell_type": "markdown",
   "metadata": {},
   "source": [
    "<a name=\"3d-plots\"></a>\n",
    "#### 3D Plots\n",
    "\n",
    "3D plots work very similarly to 2D plots, with very few slight differences in terms of the plotting methods. What we need to be more careful with is the plotting data.\n",
    "\n",
    "There are different types of 3D plotting, being contour and surfaces examples of such plots. Contours are 2D images that projects the values of the third variable $z$ into the xy-plane (see [this page](https://matplotlib.org/stable/gallery/images_contours_and_fields/contourf_demo.html?highlight=example%20contour) for an example). Here, we will work with surfaces (you can check an example [here](https://matplotlib.org/stable/gallery/mplot3d/surface3d_2.html?highlight=example%20surfaces) as well) and lines.\n",
    "\n",
    "If you have not run the [2D Plots](#2d-plots) code blocks, we need to import the libraries."
   ]
  },
  {
   "cell_type": "code",
   "execution_count": null,
   "metadata": {},
   "outputs": [],
   "source": [
    "%matplotlib notebook\n",
    "# %matplotlib inline\n",
    "# see the comments in the first code block of the 2D Plots subsection for an explanation of these lines\n",
    "\n",
    "import matplotlib.pyplot as plt\n",
    "import numpy as np "
   ]
  },
  {
   "cell_type": "markdown",
   "metadata": {},
   "source": [
    "Let's start with the data we will plot.\n",
    "\n",
    "Suppose we have an expression like $z = x + y$. Here we have to independent variables, $x$ and $y$, and one dependent variable $z$. So let's write a lambda function for defining $z$ (we could write a standard function too)."
   ]
  },
  {
   "cell_type": "code",
   "execution_count": null,
   "metadata": {},
   "outputs": [],
   "source": [
    "f = lambda x, y : x + y"
   ]
  },
  {
   "cell_type": "markdown",
   "metadata": {},
   "source": [
    "We can create arrays for the independent and dependent variables:"
   ]
  },
  {
   "cell_type": "code",
   "execution_count": null,
   "metadata": {},
   "outputs": [],
   "source": [
    "x = np.arange(10)\n",
    "y = np.arange(10)\n",
    "z = f(x,y)"
   ]
  },
  {
   "cell_type": "markdown",
   "metadata": {},
   "source": [
    "Let's now create the figure and the 3D plot."
   ]
  },
  {
   "cell_type": "code",
   "execution_count": null,
   "metadata": {},
   "outputs": [],
   "source": [
    "fig = plt.figure()\n",
    "ax = fig.add_subplot(111, projection='3d')"
   ]
  },
  {
   "cell_type": "markdown",
   "metadata": {},
   "source": [
    "Note that now we need to create the figure and the subplot objects seperately. We use ``figure`` and add a subplot with ``add_subplot``. The first argument of this function is composed of 3 numbers: the number of rows of subplots, the number of columns and a number that specifies which subplot is being assigned to ``ax``. Because we only have one subplot, then this number is 1. The second argument is a parameter that specifies that this subplot has 3 axis. \n",
    "\n",
    "We can now plot the data we have:"
   ]
  },
  {
   "cell_type": "code",
   "execution_count": null,
   "metadata": {},
   "outputs": [],
   "source": [
    "ax.plot(x, y, z)"
   ]
  },
  {
   "cell_type": "markdown",
   "metadata": {},
   "source": [
    "Since the data we passed is composed of 3 one-dimensional arrays, we used the ``plot`` function to plot a line in a three-dimensional space.  \n",
    "\n",
    "Let's see what happens if we try to plot a surface using the ``plot_surface`` function with the one-dimensional arrays we have."
   ]
  },
  {
   "cell_type": "code",
   "execution_count": null,
   "metadata": {},
   "outputs": [],
   "source": [
    "ax.plot_surface(x,y,z)"
   ]
  },
  {
   "cell_type": "markdown",
   "metadata": {},
   "source": [
    "The error message (last line) tells us that the data for $z$ must be two-dimensional.\n",
    "\n",
    "How can we do that?\n",
    "\n",
    "Well, we need a value for $z$ for every pair of independent variables $(x,y)$.\n",
    "\n",
    "We can create the pairs of independent variables with the numpy function ``meshgrid``."
   ]
  },
  {
   "cell_type": "code",
   "execution_count": null,
   "metadata": {},
   "outputs": [],
   "source": [
    "X, Y = np.meshgrid(x,y)\n",
    "print(X)\n",
    "print(Y)"
   ]
  },
  {
   "cell_type": "markdown",
   "metadata": {},
   "source": [
    "This function essentially repeats the x array in the row direction to form a square matrix and the y array in the column direction. So now we can take, for example, position (3,2) in both ``X`` and ``Y`` and obtain a pair. When we consider every position, we have every possible combination of ``x`` and ``y``.\n",
    "\n",
    "We can now pass these variables as arguments to the ``f`` function and get 2D data for $z$."
   ]
  },
  {
   "cell_type": "code",
   "execution_count": null,
   "metadata": {},
   "outputs": [],
   "source": [
    "Z = f(X,Y)\n",
    "print(Z)"
   ]
  },
  {
   "cell_type": "markdown",
   "metadata": {},
   "source": [
    "We can now use ``X``, ``Y`` and ``Z`` to plot the surface representing function ``f``."
   ]
  },
  {
   "cell_type": "code",
   "execution_count": null,
   "metadata": {},
   "outputs": [],
   "source": [
    "ax.plot_surface(X,Y,Z,alpha = 0.3)"
   ]
  },
  {
   "cell_type": "markdown",
   "metadata": {},
   "source": [
    "The last argument is a parameter to set a degree of transparency to the surface. ``alpha`` = 1 is the default and it generates a solid surface. "
   ]
  },
  {
   "cell_type": "markdown",
   "metadata": {},
   "source": [
    "---\n",
    "Again, if the interactive plot is not woking, here is the condensed code for creating a static 3D plot.\n",
    "\n",
    "**Remember to change the first line of the first code block of this section to** ``%matplotlib inline``!"
   ]
  },
  {
   "cell_type": "code",
   "execution_count": null,
   "metadata": {},
   "outputs": [],
   "source": [
    "fig = plt.figure()\n",
    "ax = fig.add_subplot(111, projection='3d')\n",
    "ax.plot(x, y, z)\n",
    "X,Y = np.meshgrid(x,y)\n",
    "Z = f(X,Y)\n",
    "ax.plot_surface(X,Y,Z,alpha=0.3)"
   ]
  },
  {
   "cell_type": "markdown",
   "metadata": {},
   "source": [
    "---"
   ]
  },
  {
   "cell_type": "markdown",
   "metadata": {},
   "source": [
    "<a name=\"solvers\"></a>\n",
    "### Solvers\n",
    "\n",
    "During this course we will use three types of solvers from the ``scipy`` library, specifically from the ``optimize`` subclass. \n",
    "\n",
    "We will not go into details of how they work here. For more information, you can check the [documentation](https://docs.scipy.org/doc/scipy/reference/optimize.html).\n",
    "\n",
    "We will look into syntax and briefly discuss what they do."
   ]
  },
  {
   "cell_type": "markdown",
   "metadata": {},
   "source": [
    "<a name=\"fsolve\"></a>\n",
    "#### ``fsolve``\n",
    "\n",
    "Function ``fsolve`` is a function that finds the roots of a function, i.e., the value of $x$ such as $F(x) = 0$ for a given function $F$.\n",
    "\n",
    "Before defining that function $F$, we need to import the libraries we will use in this section.\n",
    "\n",
    "(For details on the plotting commands, see [Section Plotting](#plotting))"
   ]
  },
  {
   "cell_type": "code",
   "execution_count": null,
   "metadata": {},
   "outputs": [],
   "source": [
    "%matplotlib inline\n",
    "import numpy as np    # in case you haven't imported it in this session yet\n",
    "import matplotlib.pyplot as plt    # in case you haven't imported it in this session yet\n",
    "from scipy.optimize import fsolve"
   ]
  },
  {
   "cell_type": "markdown",
   "metadata": {},
   "source": [
    "Consider $F(x) = x^3 + 4(x - 1)^2 - 8$. We first create a lambda function for it."
   ]
  },
  {
   "cell_type": "code",
   "execution_count": null,
   "metadata": {},
   "outputs": [],
   "source": [
    "F = lambda x : x**3 + 4*(x - 1)**2 - 8\n"
   ]
  },
  {
   "cell_type": "markdown",
   "metadata": {},
   "source": [
    "Let's look at how this function looks like by plotting it"
   ]
  },
  {
   "cell_type": "code",
   "execution_count": null,
   "metadata": {},
   "outputs": [],
   "source": [
    "X = np.arange(-8,5,0.5)\n",
    "plt.plot(X, F(X))       # if we only need to see the data (no legend, no axis label, no title), \n",
    "                        # we can just use the plot function directly and the figure will be \n",
    "                        # created automatically\n",
    "plt.plot(X, np.zeros(len(X)), linewidth = 0.5)  # this is the plot of a line for y = 0. The roots\n",
    "                                                # are the x values for where this line crosses \n",
    "                                                # the original function "
   ]
  },
  {
   "cell_type": "markdown",
   "metadata": {},
   "source": [
    "As expected, this function has 3 roots: one close to $x = -6$, one just before $x = 0$, and one close to $x = 2$. \n",
    "\n",
    "When solving $F(x) = 0$ numerically, solvers usually return only one root. This happens because numerical solvers usually start from an initial point $F(x_\\text{init})$ and then calculate steps that go towards $F(x) = 0$ until it reaches it within a certain tolerance. If it has more than one root, it usually goes to the closest one. \n",
    "\n",
    "When using ``fsolve``, we need to provide this initial value. \n",
    "\n",
    "Let's first try to find the root close to -6 by using $x_\\text{init} = -6$."
   ]
  },
  {
   "cell_type": "code",
   "execution_count": null,
   "metadata": {},
   "outputs": [],
   "source": [
    "sol1 = fsolve(F, -6)   \n",
    "print(sol1)"
   ]
  },
  {
   "cell_type": "markdown",
   "metadata": {},
   "source": [
    "When we call ``fsolve`` the first argument is the function and the second is the initial value for $x$. It returns the solution, which we stored in ``sol`` here. \n",
    "\n",
    "We can see that, indeed, the solver found the solution closest to -6. \n",
    "\n",
    "To find the other solutions, we can use different initial values."
   ]
  },
  {
   "cell_type": "code",
   "execution_count": null,
   "metadata": {},
   "outputs": [],
   "source": [
    "sol2 = fsolve(F, 0)\n",
    "print(sol2)\n",
    "\n",
    "sol3 = fsolve(F, 2)\n",
    "print(sol3)"
   ]
  },
  {
   "cell_type": "markdown",
   "metadata": {},
   "source": [
    "Let's now take another look at our function $F(x) = x^3 + 4(x - 1)^2 - 8$. Suppose we need it to be more generic and we parametrize it and write it as $F(x) = x^3 + \\alpha(x - 1)^2 - \\beta$. We can say that so far we worked with a function with parameters $\\alpha = 4$ and $\\beta = 8$.\n",
    "\n",
    "If we wish function ``F`` should take the parameters values as argument too, we need to define it as follows:"
   ]
  },
  {
   "cell_type": "code",
   "execution_count": null,
   "metadata": {},
   "outputs": [],
   "source": [
    "def F_par(x, par):\n",
    "    alpha, beta = par   # here we know par has 2 elements and we are assigning each element to an individual variable\n",
    "    return x**3 + alpha*(x - 1)**2 - beta"
   ]
  },
  {
   "cell_type": "markdown",
   "metadata": {},
   "source": [
    "Here we defined ``F`` as taking two arguments: the first is the independent variable and te second one is the parameters this function has. The second line unpacks the parameters, that is, we need to pass all the parameters together as a list or array. For readability, we give them names before writing the mathematical expression. We could also have written the expression as ``x**3 + par[0]*(x-1)**2 - par[1]`` and avoided the second line. The function then returns its mathematical expression.\n",
    "\n",
    "If we want to use ``fsolve`` to find the roots of this expression, we now need to pass the parameters as arguments too."
   ]
  },
  {
   "cell_type": "code",
   "execution_count": null,
   "metadata": {},
   "outputs": [],
   "source": [
    "sol = fsolve(F_par, 2, [4,8])\n",
    "print(sol)\n",
    "print(sol3)"
   ]
  },
  {
   "cell_type": "markdown",
   "metadata": {},
   "source": [
    "Note that by passing ``[4,8]`` we defined the same parameters as before, so we got the same root as before for $x_\\text{init} = 2$. \n",
    "\n",
    "But we can change the parameters, for example $\\alpha = 2$ and $\\beta = 4$."
   ]
  },
  {
   "cell_type": "code",
   "execution_count": null,
   "metadata": {},
   "outputs": [],
   "source": [
    "sol = fsolve(F_par, 2, [2,4])\n",
    "print(sol)"
   ]
  },
  {
   "cell_type": "markdown",
   "metadata": {},
   "source": [
    "As expected, the function changed its shape and the roots are now different (you can try different initial values to find the other roots and even plot the new function if you would like to see it for yourself)."
   ]
  },
  {
   "cell_type": "code",
   "execution_count": null,
   "metadata": {},
   "outputs": [],
   "source": []
  },
  {
   "cell_type": "markdown",
   "metadata": {},
   "source": [
    "<a name=\"minimize\"></a>\n",
    "#### ``minimize``"
   ]
  },
  {
   "cell_type": "markdown",
   "metadata": {},
   "source": [
    "``minimize`` is another type of solver that finds the minimum value of a function and the corresponding $x$ value. This is essentially the goal of an entire field called [Optimization](https://en.wikipedia.org/wiki/Mathematical_optimization). Here we will keep to the very basics.\n",
    "\n",
    "Before we see how it works, we need to import this function from the ``scipy`` library.\n",
    "\n",
    "(If you are starting from here, run the previous code blocks in this [Section](#solvers))"
   ]
  },
  {
   "cell_type": "code",
   "execution_count": null,
   "metadata": {},
   "outputs": [],
   "source": [
    "from scipy.optimize import minimize"
   ]
  },
  {
   "cell_type": "markdown",
   "metadata": {},
   "source": [
    "We will keep working with the same function $F(x) = x^3 + \\alpha(x - 1)^2 - \\beta$.\n",
    "\n",
    "Let's take a look at its plot one more time."
   ]
  },
  {
   "cell_type": "code",
   "execution_count": null,
   "metadata": {},
   "outputs": [],
   "source": [
    "X = np.arange(-8,5,0.5)\n",
    "plt.plot(X, F_par(X, [4,8]))"
   ]
  },
  {
   "cell_type": "markdown",
   "metadata": {},
   "source": [
    "If you remember from Calculus, a minimum corresponds to a point where the derivative is 0, i.e. $\\frac{dF}{dx} = 0$, and curvature is convex. We can see there is such point between $x = 0$ and $x = 2$. Let's find it. \n",
    "\n",
    "``minimize`` works similarly to ``fsolve`` in the sense that we need to pass the initial value of $x$ and the function parameters as arguments."
   ]
  },
  {
   "cell_type": "code",
   "execution_count": null,
   "metadata": {},
   "outputs": [],
   "source": [
    "sol = minimize(F_par, 0, [4,8])\n",
    "print(sol)"
   ]
  },
  {
   "cell_type": "markdown",
   "metadata": {},
   "source": [
    "The solution for this function has some more information than just the value of $x$. We will look at the three most relevant for us. \n",
    "\n",
    "``success`` tells us if the solver was able to find a minimum. In this case, it did.\n",
    "\n",
    "``fun`` is the value of $F(x)$ at the minimum.\n",
    "\n",
    "``x`` is the value of $x$ at the minimum.\n",
    "\n",
    "You can retrive a specfic value of the solution as follows:"
   ]
  },
  {
   "cell_type": "code",
   "execution_count": null,
   "metadata": {},
   "outputs": [],
   "source": [
    "sol.fun"
   ]
  },
  {
   "cell_type": "markdown",
   "metadata": {},
   "source": [
    "This solver starts from an initial value, in this example we used 0, and take steps at decendent directions until it finds a minimum. This initial value is very important and we need to be careful when defining it. \n",
    "\n",
    "For instance, see what happens when we set $x_\\text{init} = -6$:"
   ]
  },
  {
   "cell_type": "code",
   "execution_count": null,
   "metadata": {},
   "outputs": [],
   "source": [
    "sol = minimize(F_par, -6, [4,8])\n",
    "print(sol)"
   ]
  },
  {
   "cell_type": "markdown",
   "metadata": {},
   "source": [
    "We see tha ``success`` is false, so the solver was not able to find a minimum. This happened because the decent direction goes to $-\\infty$ so it cannot find an actual minimum value in that direction. \n",
    "\n",
    "What if we want to find a maximum value for $F(x)$? By inspection, we know there is a maximum value close to $-4$. \n",
    "\n",
    "We can use the same function and just look for a minimum of $-F(x)$. Let's plot $-F(x)$ and check it."
   ]
  },
  {
   "cell_type": "code",
   "execution_count": null,
   "metadata": {},
   "outputs": [],
   "source": [
    "X = np.arange(-8,5,0.5)\n",
    "plt.plot(X, -F_par(X, [4,8]))   # we can just add the minus sign here because it \n",
    "                            # calculates F(x) and then it multiplies by -1"
   ]
  },
  {
   "cell_type": "markdown",
   "metadata": {},
   "source": [
    "Note that we just flipped the curve horizontally. So now we can find a minimum of $-F(x)$ since it corresponds to a maximum of $F(x)$."
   ]
  },
  {
   "cell_type": "code",
   "execution_count": null,
   "metadata": {},
   "outputs": [],
   "source": [
    "sol = minimize(lambda y : -F_par(y, [4,8]), -6)\n",
    "print(sol)"
   ]
  },
  {
   "cell_type": "markdown",
   "metadata": {},
   "source": [
    "To get the negative function of $F(x)$ we needed to create a new function. The easiest way is to use a lambda function, which takes a value x, pass it to ``F`` along with the parameters, and the returned value is multiplied by -1.\n",
    "\n",
    "We then passed this negative function to ``minimize`` along with the initial value for $x$. \n",
    "\n",
    "Note that the independent variable here is now called ``y``, but the output always calls it ``x``."
   ]
  },
  {
   "cell_type": "markdown",
   "metadata": {},
   "source": [
    "<a name=\"curve-fit\"></a>\n",
    "#### ``curve_fit``\n",
    "\n",
    "The last solver we will take a look at is ``curve_fit``. It works like the ['add a trendline'](https://support.microsoft.com/en-us/office/add-a-trend-or-moving-average-line-to-a-chart-fa59f86c-5852-4b68-a6d4-901a745842ad) functionality in Excel, but we can provide any mathematical expression we wish for it to fit.\n",
    "\n",
    "Essentially, this function takes data representing $x$ and $F(x)$ and calculates the values of the parameters of an expression that best describe the data. \n",
    "\n",
    "Here we also begin by importing the solver.\n",
    "\n",
    "(If you are starting from here, run the first code blocks in the beginning of this [Section](#solvers))"
   ]
  },
  {
   "cell_type": "code",
   "execution_count": null,
   "metadata": {},
   "outputs": [],
   "source": [
    "from scipy.optimize import curve_fit"
   ]
  },
  {
   "cell_type": "markdown",
   "metadata": {},
   "source": [
    "As before, we will keep using the expression we have been using in this Section, $F(x) = x^3 + \\alpha(x - 1)^2 - \\beta$.\n",
    "\n",
    "However, when using ``curve_fit`` we need to declare it a little differently than we did before. Here, we **cannot** group the parameters together in a list or array. Instead, they need to be defined as individual arguments."
   ]
  },
  {
   "cell_type": "code",
   "execution_count": null,
   "metadata": {},
   "outputs": [],
   "source": [
    "def F_c(x, alpha, beta):\n",
    "    return x**3 + alpha*(x - 1)**2 - beta"
   ]
  },
  {
   "cell_type": "markdown",
   "metadata": {},
   "source": [
    "We now need data points for finding the parameters. \n",
    "\n",
    "Let's create them with the ``F_c`` function using the same parameters $\\alpha = 4$ and $\\beta = 8$ we have been using. "
   ]
  },
  {
   "cell_type": "code",
   "execution_count": null,
   "metadata": {},
   "outputs": [],
   "source": [
    "X = np.arange(-8,5,1)\n",
    "Y = F_c(X, 4, 8)\n",
    "plt.scatter(X,Y)"
   ]
  },
  {
   "cell_type": "markdown",
   "metadata": {},
   "source": [
    "Here we created 13 data points. \n",
    "\n",
    "We can now pass them to ``curve_fit`` along with ``F_c`` to find the values of $\\alpha$ and $\\beta$ for this data set."
   ]
  },
  {
   "cell_type": "code",
   "execution_count": null,
   "metadata": {},
   "outputs": [],
   "source": [
    "pars, cov = curve_fit(F_c,X,Y)\n",
    "print(pars)"
   ]
  },
  {
   "cell_type": "markdown",
   "metadata": {},
   "source": [
    "We can see that this function was able to find the original parameters.\n",
    "\n",
    "The other information that ``curve_fit`` returns is the covariance matrix of the parameters. It is a measure of the uncertainty of the parameters, but we will not look into that in this course.\n",
    "\n",
    "This kind of procedure for finding parameters of a mathematical expression is usually done with experimental data and experimental data **always** contain errors. So let's simulate that. "
   ]
  },
  {
   "cell_type": "code",
   "execution_count": null,
   "metadata": {},
   "outputs": [],
   "source": [
    "Y = F_c(X, 4, 8) + np.random.randn(len(X))*10\n",
    "plt.scatter(X,Y)"
   ]
  },
  {
   "cell_type": "markdown",
   "metadata": {},
   "source": [
    "Here we added a randon variable with normal distribution to ``Y`` after calculating $F(x)$ to simulate experimental errors. We can see that the data points are not aligned in a smooth curve anymore.\n",
    "\n",
    "Let's use this data set to estimate the parameters now."
   ]
  },
  {
   "cell_type": "code",
   "execution_count": null,
   "metadata": {},
   "outputs": [],
   "source": [
    "pars, cov = curve_fit(F_c,X,Y)\n",
    "print(pars)"
   ]
  },
  {
   "cell_type": "markdown",
   "metadata": {},
   "source": [
    "We can see now that we do not get the exact original parameters anymore. $\\alpha$ value is somewhat similar, but $\\beta$ can be further from the original value. Because we generated random variables for defining the new ``Y``, everytime we run the code block that creates this ``Y``, we will get a different data set and different parameter values (you can try re-running the last two code blocks).\n",
    "\n",
    "Although they are the original values for the parameter, we can argue they represent the data well (and that is what we are looking for).\n",
    "\n",
    "Let's plot and see the data set and $F(x)$ with the parameters calculated with ``curve_fit``. "
   ]
  },
  {
   "cell_type": "code",
   "execution_count": null,
   "metadata": {},
   "outputs": [],
   "source": [
    "X_est = np.arange(-8,5,0.5)\n",
    "Y_est = F_c(X_est, pars[0], pars[1])\n",
    "plt.scatter(X,Y)\n",
    "plt.plot(X_est,Y_est, color = \"orange\")"
   ]
  },
  {
   "cell_type": "markdown",
   "metadata": {},
   "source": [
    "Just a last remark about this these solvers we have worked with. We used a function that takes only one independent variable $x$. But $x$ could have been an array and we could have something like $F(x) = x_1^2 + x_2^2 + x_3^2$, meaning that we can have multiple independent variables.\n",
    "\n",
    "For ``curve_fit``, our ``X`` data would then be a 2-dimensional array with rows representing the independent variables and columns containing the data points."
   ]
  }
 ],
 "metadata": {
  "interpreter": {
   "hash": "0370ac1f960e2833370989c9a7c925682c8585d2b59fdb1ca28374c7f7cc503f"
  },
  "kernelspec": {
   "display_name": "Python 3.8.5 64-bit ('base': conda)",
   "language": "python",
   "name": "python3"
  },
  "language_info": {
   "codemirror_mode": {
    "name": "ipython",
    "version": 3
   },
   "file_extension": ".py",
   "mimetype": "text/x-python",
   "name": "python",
   "nbconvert_exporter": "python",
   "pygments_lexer": "ipython3",
   "version": "3.8.5"
  },
  "orig_nbformat": 4
 },
 "nbformat": 4,
 "nbformat_minor": 2
}
