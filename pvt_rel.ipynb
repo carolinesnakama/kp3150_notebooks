{
 "cells": [
  {
   "cell_type": "markdown",
   "metadata": {},
   "source": [
    "# Properties of pure and compressible substances\n",
    "\n",
    "## p-V-T Relation"
   ]
  },
  {
   "cell_type": "markdown",
   "metadata": {},
   "source": [
    "The Ideal Gas Law,\n",
    "\n",
    "$$pv = nRT$$\n",
    "\n",
    "or\n",
    "\n",
    "$$pV = RT$$\n",
    "\n",
    "where p is pressure, $V = \\frac{v}{n}$ is the specific volume (per mol), T is temperature and R is the ideal gas constant, determines how these 3 properties (pressure, volume and temperature) are related for some gases at certain states. There are other equations of state better suited for different substances and/or different states (such as Van der Waals, Peng-Robinson, Ideal Bose, etc.). But we can also use the p-V-T surface, which is basically a 3D surface plot that we can visualize this relation.\n",
    "\n",
    "Let's take a look at the p-V-T surface for an ideal gas.\n",
    "\n",
    "We are going to plot it using Python, so we have to start by importing the packages we will need."
   ]
  },
  {
   "cell_type": "code",
   "execution_count": null,
   "metadata": {},
   "outputs": [],
   "source": [
    "%matplotlib inline\n",
    "import numpy as np\n",
    "import matplotlib.pyplot as plt \n",
    "from mpl_toolkits.mplot3d import Axes3D"
   ]
  },
  {
   "cell_type": "markdown",
   "metadata": {},
   "source": [
    "We now need to define a function with the Ideal Gas Law that will be used to calculate one of the properties that will be placed in the z axis. We will choose pressure, so that\n",
    "\n",
    "$$p(V,T) = \\frac{RT}{V}$$\n",
    "\n",
    "and the Python function can be defined as follows"
   ]
  },
  {
   "cell_type": "code",
   "execution_count": null,
   "metadata": {},
   "outputs": [],
   "source": [
    "def pressure(V ,T , R = 8.314):\n",
    "    return R*T/V"
   ]
  },
  {
   "cell_type": "markdown",
   "metadata": {},
   "source": [
    "With that, we can plot our p-V-T surface for ideal gas. First, we define the ranges for temperature (in K) and specific volume (in m $^3$ /mol)"
   ]
  },
  {
   "cell_type": "code",
   "execution_count": null,
   "metadata": {},
   "outputs": [],
   "source": [
    "T_range = np.arange(200, 650, 10)\n",
    "V_range = np.arange(0.01, 0.4, 0.01)"
   ]
  },
  {
   "cell_type": "markdown",
   "metadata": {},
   "source": [
    "and create a grid for the 3D plot"
   ]
  },
  {
   "cell_type": "code",
   "execution_count": null,
   "metadata": {},
   "outputs": [],
   "source": [
    "T, V = np.meshgrid(T_range, V_range)"
   ]
  },
  {
   "cell_type": "markdown",
   "metadata": {},
   "source": [
    "We just need to calculate $P$ for every pair ($V_{i,j}$, $T_{i,j}$) using our defined function"
   ]
  },
  {
   "cell_type": "code",
   "execution_count": null,
   "metadata": {},
   "outputs": [],
   "source": [
    "P = pressure(V, T)"
   ]
  },
  {
   "cell_type": "markdown",
   "metadata": {},
   "source": [
    "Now that we have all values we need for $p$, $V$ and $T$, we can plot the surface"
   ]
  },
  {
   "cell_type": "code",
   "execution_count": null,
   "metadata": {},
   "outputs": [],
   "source": [
    "fig = plt.figure()\n",
    "ax = fig.add_subplot(111, projection='3d')\n",
    "ax.plot_surface(T, V, P, alpha=0.3)\n",
    "ax.set_xlabel('Temperature (K)')\n",
    "ax.set_ylabel('Specific volume (m3/mol)')\n",
    "ax.set_zlabel('Pressure (Pa)')\n",
    "plt.show()"
   ]
  },
  {
   "cell_type": "markdown",
   "metadata": {},
   "source": [
    "When we analyze a graphic representation of the p-V-T relation like this, we usually use projections onto 2 properties plane so we end up with a 2D graph. \n",
    "\n",
    "Let's start by fixing $T$ and projecting the surface onto the specific volume and pressure plane.  "
   ]
  },
  {
   "cell_type": "code",
   "execution_count": null,
   "metadata": {},
   "outputs": [],
   "source": [
    "fig2, ax2 = plt.subplots()\n",
    "\n",
    "for i in range(0,len(T_range),5):\n",
    "    ax.plot(T[:,i], V[:,i], P[:,i], color='red')   # adding lines to the surface plot\n",
    "    ax2.plot(V[:,i], P[:,i], label='T = %i'%T[0,i])\n",
    "ax2.legend()\n",
    "ax2.set_ylabel('Pressure (Pa)')\n",
    "ax2.set_xlabel('Specific volume (m3/mol)')\n",
    "plt.title('p-V diagram')\n",
    "plt.show()"
   ]
  },
  {
   "cell_type": "markdown",
   "metadata": {},
   "source": [
    "The lines added to the surface plot are the same as the ones drawned in the 2D graph. This 2D representation is called the **p-V Diagram**.\n",
    "\n",
    "Projecting the surface onto the temperature and specific volume plane results in the **T-V Diagram**,"
   ]
  },
  {
   "cell_type": "code",
   "execution_count": null,
   "metadata": {},
   "outputs": [],
   "source": [
    "def temperature(p ,V , R = 8.314):\n",
    "    return p*V/R\n",
    "p_range = np.arange(4000, 110000, 2000)\n",
    "p, V = np.meshgrid(p_range, V_range)\n",
    "t = np.array(temperature(p,V))\n",
    "\n",
    "fig3, ax3 = plt.subplots()\n",
    "for i in range(0,len(p_range),5):\n",
    "    ax3.plot(V[:,i], t[:,i], label='p = %i'%p[0,i])\n",
    "ax3.legend()\n",
    "ax3.set_ylabel('Temperature (K)')\n",
    "ax3.set_xlabel('Specific volume (m3/mol)')\n",
    "plt.title('T-V diagram')\n",
    "plt.show()"
   ]
  },
  {
   "cell_type": "markdown",
   "metadata": {},
   "source": [
    "while using the pressure and temperature plane gives us the **Phase Diagram**."
   ]
  },
  {
   "cell_type": "code",
   "execution_count": null,
   "metadata": {},
   "outputs": [],
   "source": [
    "fig4, ax4 = plt.subplots()\n",
    "for i in range(0,len(V_range),5):\n",
    "    ax4.plot(T[i,:], P[i,:], label='V = %0.2f'%V[i,0])\n",
    "ax4.legend()\n",
    "ax4.set_ylabel('Pressure (Pa)')\n",
    "ax4.set_xlabel('Temperature (K)')\n",
    "plt.title('Phase Diagram')\n",
    "plt.show()"
   ]
  },
  {
   "cell_type": "markdown",
   "metadata": {},
   "source": [
    "## Example\n",
    "\n",
    "Consider the gas/piston system represented in the picture and two expansion processes, one isobaric (constant pressure) and the other isothermic (constant temperature). Considering that the gas can be modeled as an ideal gas, let's modify the above plots and see where states 1, 2A and 2B are located in the p-v-T surface. First we need to calculate the gas temperature at state 2A and the gas pressure at state 2B. "
   ]
  },
  {
   "cell_type": "code",
   "execution_count": null,
   "metadata": {},
   "outputs": [],
   "source": [
    "## State 1\n",
    "R = 8.314      # J/(mol.K) \n",
    "p_1 = 101325   # Pa\n",
    "n = 20         # mols\n",
    "T_1 = 304.66   # K\n",
    "V_1 = 0.5      # m3\n",
    "\n",
    "## State 2A (isobaric process)\n",
    "\n",
    "## State 2B (isothermic process)\n"
   ]
  }
 ],
 "metadata": {
  "kernelspec": {
   "display_name": "Python 3",
   "language": "python",
   "name": "python3"
  },
  "language_info": {
   "codemirror_mode": {
    "name": "ipython",
    "version": 3
   },
   "file_extension": ".py",
   "mimetype": "text/x-python",
   "name": "python",
   "nbconvert_exporter": "python",
   "pygments_lexer": "ipython3",
   "version": "3.8.5"
  }
 },
 "nbformat": 4,
 "nbformat_minor": 2
}
