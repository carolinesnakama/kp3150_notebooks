{
 "cells": [
  {
   "cell_type": "markdown",
   "metadata": {},
   "source": [
    "# Convection \n",
    "## Numerical example\n",
    "\n",
    "Air at 40 $^o$ C flows over a long, 25-mm-diameter cylinder with an embedded electrical heater. Measurements were made of the power per unit length required to maintain the cylinder surface temperature at 300 $^o$ C for different free stream velocities of the air. "
   ]
  },
  {
   "cell_type": "code",
   "execution_count": null,
   "metadata": {},
   "outputs": [],
   "source": [
    "V = [1,2,4,8,12]    # air velocity\n",
    "P = [450, 658, 983, 1507, 1963]   # power required to keep surface at 300C with corresponding air velocity"
   ]
  },
  {
   "cell_type": "markdown",
   "metadata": {},
   "source": [
    "Determine the convection coefficient for each velocity, and display the results graphically.\n",
    "\n",
    "We can start by writing a function that returns the value of coefficient h for each V."
   ]
  },
  {
   "cell_type": "code",
   "execution_count": null,
   "metadata": {},
   "outputs": [],
   "source": [
    "from math import pi\n",
    "def coeff_h(P, Ts = 300, Tinf = 40, d = 0.025):\n",
    "    q = P/(pi*d)\n",
    "    h = q/(Ts - Tinf)\n",
    "    return h"
   ]
  },
  {
   "cell_type": "markdown",
   "metadata": {},
   "source": [
    "We can create a list with all values of h"
   ]
  },
  {
   "cell_type": "code",
   "execution_count": null,
   "metadata": {},
   "outputs": [],
   "source": [
    "h = []\n",
    "for p in P:\n",
    "    h.append(coeff_h(p))\n",
    "print(h)"
   ]
  },
  {
   "cell_type": "markdown",
   "metadata": {},
   "source": [
    "Now that we have h for each velocity in V, let's plot the results"
   ]
  },
  {
   "cell_type": "code",
   "execution_count": null,
   "metadata": {},
   "outputs": [],
   "source": [
    "import matplotlib.pyplot as plt\n",
    "fig = plt.figure()\n",
    "ax = fig.add_subplot(111)\n",
    "ax.plot(V, h, label = 'h')\n",
    "ax.set_ylabel('Convection coefficient (W/m.K)')\n",
    "ax.set_xlabel('Air velocity (m/s)')\n",
    "ax.legend()"
   ]
  }
 ],
 "metadata": {
  "kernelspec": {
   "display_name": "Python 3",
   "language": "python",
   "name": "python3"
  },
  "language_info": {
   "codemirror_mode": {
    "name": "ipython",
    "version": 3
   },
   "file_extension": ".py",
   "mimetype": "text/x-python",
   "name": "python",
   "nbconvert_exporter": "python",
   "pygments_lexer": "ipython3",
   "version": "3.8.3"
  }
 },
 "nbformat": 4,
 "nbformat_minor": 2
}
