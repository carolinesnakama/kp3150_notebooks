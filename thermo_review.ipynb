{
 "cells": [
  {
   "cell_type": "markdown",
   "metadata": {},
   "source": [
    "# Thermodynamics Review\n",
    "\n",
    "## p-v-T Relation"
   ]
  },
  {
   "cell_type": "markdown",
   "metadata": {},
   "source": [
    "The Ideal Gas Law,\n",
    "\n",
    "$$pV = nRT$$\n",
    "\n",
    "or\n",
    "\n",
    "$$pv = RT$$\n",
    "\n",
    "where p is pressure, $v = \\frac{V}{n}$ is the specific volume (per mol), T is temperature and R is the ideal gas constant, determines how these 3 properties (pressure, volume and temperature) are related for some gases at certain states. There are other equations of state better suited for different substances and/or different states (such as Van der Waals, Peng-Robinson, Ideal Bose, etc.). But we can also use the p-v-T surface, which is basically a 3D surface plot that we can visualize this relation.\n",
    "\n",
    "Let's take a look at the p-v-T surface for an ideal gas.\n",
    "\n",
    "We are going to plot it using Python, so we have to start by importing the packages we will need."
   ]
  },
  {
   "cell_type": "code",
   "execution_count": null,
   "metadata": {},
   "outputs": [],
   "source": [
    "%matplotlib notebook\n",
    "# %matplotlib inline\n",
    "# for Anaconda - keep 'notebook' and comment out 'inline'\n",
    "# for Google Colab - keep 'inline' and comment out 'notebook'\n",
    "# See tutorial notebook for details\n",
    "\n",
    "import numpy as np\n",
    "import matplotlib.pyplot as plt "
   ]
  },
  {
   "cell_type": "markdown",
   "metadata": {},
   "source": [
    "We now need to define a function with the Ideal Gas Law that will be used to calculate one of the properties that will be placed in the z axis. We will choose pressure, so that\n",
    "\n",
    "$$p(v,T) = \\frac{RT}{v}$$\n",
    "\n",
    "and the Python function can be defined as follows"
   ]
  },
  {
   "cell_type": "code",
   "execution_count": null,
   "metadata": {},
   "outputs": [],
   "source": [
    "def pressure(v ,T , R = 8.314):\n",
    "    return R*T/v"
   ]
  },
  {
   "cell_type": "markdown",
   "metadata": {},
   "source": [
    "With that, we can plot our p-V-T surface for ideal gas. First, we define the ranges for temperature (in K) and specific volume (in m $^3$ /mol)"
   ]
  },
  {
   "cell_type": "code",
   "execution_count": null,
   "metadata": {},
   "outputs": [],
   "source": [
    "T_range = np.arange(200, 650, 10)\n",
    "v_range = np.arange(0.01, 0.4, 0.002)\n",
    "print(T_range.size)"
   ]
  },
  {
   "cell_type": "markdown",
   "metadata": {},
   "source": [
    "and create the appropriate 2D arrays for the 3D plot (see the Python tutorial notebook for more details)"
   ]
  },
  {
   "cell_type": "code",
   "execution_count": null,
   "metadata": {},
   "outputs": [],
   "source": [
    "T, v = np.meshgrid(T_range, v_range)"
   ]
  },
  {
   "cell_type": "markdown",
   "metadata": {},
   "source": [
    "We now need to calculate $P$ for every pair ($V_{i,j}$, $T_{i,j}$) using our defined function"
   ]
  },
  {
   "cell_type": "code",
   "execution_count": null,
   "metadata": {},
   "outputs": [],
   "source": [
    "P = pressure(v, T)"
   ]
  },
  {
   "cell_type": "markdown",
   "metadata": {},
   "source": [
    "Now that we have all values we need for $p$, $V$ and $T$, we can plot the surface"
   ]
  },
  {
   "cell_type": "code",
   "execution_count": null,
   "metadata": {},
   "outputs": [],
   "source": [
    "fig = plt.figure()\n",
    "ax = fig.add_subplot(111, projection='3d')\n",
    "ax.plot_surface(T, v, P, alpha=0.3)\n",
    "ax.set_xlabel('Temperature (K)')\n",
    "ax.set_ylabel('Specific volume (m3/mol)')\n",
    "ax.set_zlabel('Pressure (Pa)')\n",
    "plt.show()"
   ]
  },
  {
   "cell_type": "markdown",
   "metadata": {},
   "source": [
    "When we analyze a graphic representation of the p-V-T relation like this, we usually use projections onto 2 properties plane so we end up with a 2D graph. \n",
    "\n",
    "Let's start by fixing $T$ and projecting the surface onto the specific volume and pressure plane.  "
   ]
  },
  {
   "cell_type": "code",
   "execution_count": null,
   "metadata": {},
   "outputs": [],
   "source": [
    "fig2, ax2 = plt.subplots()\n",
    "\n",
    "for i in range(0,len(T_range),5):\n",
    "    ax.plot(T[:,i], v[:,i], P[:,i], color='red')   # adding lines to the surface plot\n",
    "    ax2.plot(v[:,i], P[:,i], label='T = %i'%T[0,i])\n",
    "ax2.legend()\n",
    "ax2.set_ylabel('Pressure (Pa)')\n",
    "ax2.set_xlabel('Specific volume (m3/mol)')\n",
    "plt.title('p-v diagram')\n",
    "plt.show()"
   ]
  },
  {
   "cell_type": "markdown",
   "metadata": {},
   "source": [
    "The lines added to the surface plot are the same as the ones drawned in the 2D graph. This 2D representation is called the **p-V Diagram**.\n",
    "\n",
    "Projecting the surface onto the temperature and specific volume plane results in the **T-V Diagram**,"
   ]
  },
  {
   "cell_type": "code",
   "execution_count": null,
   "metadata": {},
   "outputs": [],
   "source": [
    "def temperature(p ,v , R = 8.314):\n",
    "    return p*v/R\n",
    "p_range = np.arange(4000, 115000, 2500)\n",
    "p, v = np.meshgrid(p_range, v_range)\n",
    "t = np.array(temperature(p,v))\n",
    "fig3, ax3 = plt.subplots()\n",
    "for i in range(0,len(p_range),5):\n",
    "    ax3.plot(v[:,i], t[:,i], label='p = %i'%p[0,i])\n",
    "ax3.legend()\n",
    "ax3.set_ylabel('Temperature (K)')\n",
    "ax3.set_xlabel('Specific volume (m3/mol)')\n",
    "plt.title('T-v diagram')\n",
    "plt.show()"
   ]
  },
  {
   "cell_type": "markdown",
   "metadata": {},
   "source": [
    "while using the pressure and temperature plane gives us the **Phase Diagram**."
   ]
  },
  {
   "cell_type": "code",
   "execution_count": null,
   "metadata": {},
   "outputs": [],
   "source": [
    "fig4, ax4 = plt.subplots()\n",
    "for i in range(0,len(v_range),20):\n",
    "    ax4.plot(T[i,:], P[i,:], label='v = %0.2f'%v[i,0])\n",
    "ax4.legend()\n",
    "ax4.set_ylabel('Pressure (Pa)')\n",
    "ax4.set_xlabel('Temperature (K)')\n",
    "plt.title('Phase Diagram')\n",
    "plt.show()"
   ]
  },
  {
   "cell_type": "markdown",
   "metadata": {},
   "source": [
    "In the study of thermodynamics, it is common practice to use these plane projections and of other properties such as enthalpy $\\times$ pressure and temperature $\\times$ entropy. In this course, we will work with the p-v diagram to analyze the thermodynamic processes and cycles we will cover."
   ]
  },
  {
   "cell_type": "markdown",
   "metadata": {},
   "source": [
    "### Numerical example\n",
    "\n",
    "Let's look at a simple example to illustrate the representation of states in the p-v-T surface and p-v diagram.\n",
    "\n",
    "Consider an 20 mols of an ideal gas in a piston occupying a volume of 0.5 $m^3$ at 1 atm.  "
   ]
  },
  {
   "cell_type": "code",
   "execution_count": null,
   "metadata": {},
   "outputs": [],
   "source": [
    "p_1 = 101325   # Pa\n",
    "n = 20         # mols\n",
    "V_1 = 0.5      # m3"
   ]
  },
  {
   "cell_type": "markdown",
   "metadata": {},
   "source": [
    "Let's see where this state lies in the p-v-T surface.\n",
    "\n",
    "Do we have everything we need to plot? \n",
    "\n",
    "We have enough information to characterize the state in the p-v-T surface, since we only need two properties. \n",
    "\n",
    "But we do need a numerical value for the temperature too for the plot. We can use the function we previously defined."
   ]
  },
  {
   "cell_type": "code",
   "execution_count": null,
   "metadata": {},
   "outputs": [],
   "source": [
    "T_1 = \n",
    "print(T_1)"
   ]
  },
  {
   "cell_type": "markdown",
   "metadata": {},
   "source": [
    "Now we can plot. Let's start by plotting the p-v-T surface for ideal gases again. Then, we can add a marker to representing the state."
   ]
  },
  {
   "cell_type": "code",
   "execution_count": null,
   "metadata": {},
   "outputs": [],
   "source": [
    "fig = plt.figure()\n",
    "ax = fig.add_subplot(111, projection='3d')\n",
    "ax.plot_surface(T, v, P, alpha=0.3)\n",
    "ax.set_xlabel('Temperature (K)')\n",
    "ax.set_ylabel('Specific volume (m3/mol)')\n",
    "ax.set_zlabel('Pressure (Pa)')\n",
    "\n",
    "ax.scatter()"
   ]
  },
  {
   "cell_type": "markdown",
   "metadata": {},
   "source": [
    "From now on, we will start using the p-v diagram to analyze thermodynamic processes and cycles. So, let's see this state in the p-v diagram."
   ]
  },
  {
   "cell_type": "code",
   "execution_count": null,
   "metadata": {},
   "outputs": [],
   "source": [
    "fig2, ax2 = plt.subplots()\n",
    "for i in range(0,len(T_range),5):\n",
    "    ax2.plot(v[:,i], P[:,i], label='T = %i'%T[0,i], linewidth = 0.75)\n",
    "ax2.legend()\n",
    "ax2.set_xlim(0.01,0.09)\n",
    "ax2.set_ylim(30000,280000)\n",
    "ax2.set_ylabel('Pressure (Pa)')\n",
    "ax2.set_xlabel('Specific volume (m3/mol)')\n",
    "plt.title('p-v diagram')\n",
    "\n",
    "ax2.scatter()"
   ]
  },
  {
   "cell_type": "markdown",
   "metadata": {},
   "source": [
    "## Thermodynamic Processes\n",
    "\n",
    "Here we will visualize the main thermodynamic processes we have seen during the lecture. \n",
    "\n",
    "Consider a gas/piston system composed of an ideal gas. \n",
    "\n",
    "<img src=\"images/gas-piston-system.png\" alt=\"gas-piston-system\" width=\"400\">\n",
    "\n",
    "Let's keep in mind that here the system of interest is the **ideal gas**, so this is our **closed system**. The piston is part of the surroundings. The boundary is defined to be interface between the gas and cylinder/piston. It *can move*, since mass cannot flow through the boundary (the gas is trapped in the cylinder, but the piston can move), and energy can be exchanged through the cylinder (heat) or  with the piston (work). \n",
    "\n",
    "We will use the p-v diagram created by the following code. "
   ]
  },
  {
   "cell_type": "code",
   "execution_count": null,
   "metadata": {},
   "outputs": [],
   "source": [
    "fig, ax = plt.subplots()\n",
    "for i in range(0,len(T_range),5):\n",
    "    ax.plot(v[:,i], P[:,i], label='T = %i'%T[0,i], linewidth = 0.75)\n",
    "ax.legend()\n",
    "ax.set_xlim(0.01,0.09)\n",
    "ax.set_ylim(30000,280000)\n",
    "ax.set_ylabel('Pressure (Pa)')\n",
    "ax.set_xlabel('Specific volume (m3/mol)')\n",
    "plt.title('p-v diagram')"
   ]
  },
  {
   "cell_type": "markdown",
   "metadata": {},
   "source": [
    "For every process we will replot this diagram for two reasons: one is because we do not want this plot too crowded, and the second is to avoid issues in case you are not running thin notebook in the Anaconda environment. \n",
    "\n",
    "Before looking at the processes, let's first define **state 1** of our system."
   ]
  },
  {
   "cell_type": "code",
   "execution_count": null,
   "metadata": {},
   "outputs": [],
   "source": [
    "T_1 = 300 #K\n",
    "v_1 = 0.015 #m3/mol\n",
    "p_1 = pressure(v_1,T_1) \n",
    "\n",
    "ax.scatter(v_1,p_1)  # this will only work with interactive plotting \n",
    "                     # you can copy this cell and paste it after the existing code in the previous one if you don't see the point in the previous plot"
   ]
  },
  {
   "cell_type": "markdown",
   "metadata": {},
   "source": [
    "### Isobaric process\n",
    "\n",
    "Suppose our system goes under an isobaric expansion to **state 2**, in which the specific volume is 0.028 $\\text{m}^3/\\text{mol}$. \n",
    "\n",
    "Because we do not need the temperature for plotting in the p-v diagram, we can directly add to it state 2 and a line that represents this isobaric process."
   ]
  },
  {
   "cell_type": "code",
   "execution_count": null,
   "metadata": {},
   "outputs": [],
   "source": [
    "p_2 = p_1\n",
    "v_2 = 0.028\n",
    "\n",
    "### plotting the p-v diagram\n",
    "fig, ax = plt.subplots()\n",
    "for i in range(0,len(T_range),5):\n",
    "    ax.plot(v[:,i], P[:,i], label='T = %i'%T[0,i], linewidth = 0.75)\n",
    "ax.legend()\n",
    "ax.set_xlim(0.01,0.09)\n",
    "ax.set_ylim(30000,280000)\n",
    "ax.set_ylabel('Pressure (Pa)')\n",
    "ax.set_xlabel('Specific volume (m3/mol)')\n",
    "#####\n",
    "\n",
    "### adding states\n",
    "ax.scatter([v_1, v_2], [p_1, p_2])\n",
    "ax.plot([v_1, v_2], [p_1, p_2])"
   ]
  },
  {
   "cell_type": "markdown",
   "metadata": {},
   "source": [
    "We can see that this process also raises the temperature of the system to a value close to 550 K. We can calculate it exactly with the ideal gas law (we already have a function defined for it)."
   ]
  },
  {
   "cell_type": "code",
   "execution_count": null,
   "metadata": {},
   "outputs": [],
   "source": [
    "T_2 = \n",
    "print(f\"T2 = {T_2} K\")"
   ]
  },
  {
   "cell_type": "markdown",
   "metadata": {},
   "source": [
    "Remember that \n",
    "\n",
    "$$W = \\int_{v_1}^{v_2}pdV$$\n",
    "\n",
    "\n",
    "so the work the gas performs on the piston to expand is the area under the line representing the isobaric process. Let's calculate it."
   ]
  },
  {
   "cell_type": "code",
   "execution_count": null,
   "metadata": {},
   "outputs": [],
   "source": [
    "W_1 =  # in J\n",
    "print(f\"W = {W_1} J\")"
   ]
  },
  {
   "cell_type": "markdown",
   "metadata": {},
   "source": [
    "### Isochoric process"
   ]
  },
  {
   "cell_type": "markdown",
   "metadata": {},
   "source": [
    "Say we want to cool down our system from **state 2** to state 3 at 350 K, but we wish to do so keeping the same volume, in other words, we do not want the piston to move.\n",
    "\n",
    "How does this process look in the p-v diagram?"
   ]
  },
  {
   "cell_type": "code",
   "execution_count": null,
   "metadata": {},
   "outputs": [],
   "source": [
    "v_3 = v_2 #m3/mol\n",
    "T_3 = 350 #K\n",
    "p_3 = pressure(v_3, T_3) #Pa\n",
    "print(f\"p3 = {int(p_3)} Pa\")\n",
    "\n",
    "### plotting the p-v diagram\n",
    "fig, ax = plt.subplots()\n",
    "for i in range(0,len(T_range),5):\n",
    "    ax.plot(v[:,i], P[:,i], label='T = %i'%T[0,i], linewidth = 0.75)\n",
    "ax.legend()\n",
    "ax.set_xlim(0.01,0.09)\n",
    "ax.set_ylim(30000,280000)\n",
    "ax.set_ylabel('Pressure (Pa)')\n",
    "ax.set_xlabel('Specific volume (m3/mol)')\n",
    "#####\n",
    "\n",
    "### adding states\n",
    "ax.scatter([v_2, v_3], [p_2, p_3])\n",
    "ax.plot([v_2, v_3], [p_2, p_3])"
   ]
  },
  {
   "cell_type": "markdown",
   "metadata": {},
   "source": [
    "Because there is no variation of volume, there is also no work associated with this process, $W = 0$; the piston did not move (there is not a area under the curve in the diagram). *All the exchanged energy here was in form of heat*. \n",
    "\n",
    "### Isothermal process\n",
    "\n",
    "Suppose we now wish to compress our system isothermically, raising its pressure to 130960.5 Pa at **state 4**.\n",
    "\n"
   ]
  },
  {
   "cell_type": "code",
   "execution_count": null,
   "metadata": {},
   "outputs": [],
   "source": [
    "p_4 = 130960.5 #Pa\n",
    "T_4 = T_3 #K\n",
    "v_4 = 8.314*T_4/p_4 #m3/mol  # we don't have a function for calculating the volume defined \n",
    "print(f\"v4 = {v_4} m3/mol\")\n",
    "\n",
    "### plotting the p-v diagram\n",
    "fig, ax = plt.subplots()\n",
    "for i in range(0,len(T_range),5):\n",
    "    ax.plot(v[:,i], P[:,i], label='T = %i'%T[0,i], linewidth = 0.75)\n",
    "ax.legend()\n",
    "ax.set_xlim(0.01,0.09)\n",
    "ax.set_ylim(30000,280000)\n",
    "ax.set_ylabel('Pressure (Pa)')\n",
    "ax.set_xlabel('Specific volume (m3/mol)')\n",
    "#####\n",
    "\n",
    "### adding states\n",
    "ax.scatter([v_3, v_4], [p_3, p_4])\n",
    "## plotting the isothermal process\n",
    "v4_range = np.linspace(v_3,v_4,5)\n",
    "p4_range = pressure(v4_range, T_4)\n",
    "ax.plot(v4_range,p4_range)"
   ]
  },
  {
   "cell_type": "markdown",
   "metadata": {},
   "source": [
    "Note that if we want to plot an isothermal process, we cannot plot a straight line from the initial state to the final, since the isotherm (the line that represents states with the same temperature) is not a straight line. \n",
    "\n",
    "If you are in the Anaconda environment, we can plot a straight line and see that for a process that would follow that line, temperature would not be constant."
   ]
  },
  {
   "cell_type": "code",
   "execution_count": null,
   "metadata": {},
   "outputs": [],
   "source": [
    "ax.plot([v_3, v_4], [p_3, p_4])"
   ]
  },
  {
   "cell_type": "markdown",
   "metadata": {},
   "source": [
    "Remember that for ideal gases, internal energy depends only on temperature. Since isothermal processes keep the temperature constant, $\\Delta U = 0$, and from the first law of thermodynamics we have that \n",
    "\n",
    "$$Q = W$$\n",
    "\n",
    "the heat exchanged with the surroundings is equal to the work performed on the system.\n",
    "\n",
    "Since work is the area under the curve, we can numerically calculate it using the [trapezoidal rule](https://en.wikipedia.org/wiki/Trapezoidal_rule). "
   ]
  },
  {
   "cell_type": "code",
   "execution_count": null,
   "metadata": {},
   "outputs": [],
   "source": [
    "### plotting the p-v diagram\n",
    "fig, ax = plt.subplots()\n",
    "for i in range(0,len(T_range),5):\n",
    "    ax.plot(v[:,i], P[:,i], label='T = %i'%T[0,i], linewidth = 0.75)\n",
    "ax.legend()\n",
    "ax.set_xlim(0.018,0.034)\n",
    "ax.set_ylim(60000,160000)\n",
    "ax.set_ylabel('Pressure (Pa)')\n",
    "ax.set_xlabel('Specific volume (m3/mol)')\n",
    "#####\n",
    "\n",
    "### adding states\n",
    "ax.scatter([v_3, v_4], [p_3, p_4])\n",
    "## plotting the isothermal process\n",
    "v4_range = np.linspace(v_3,v_4,5)\n",
    "p4_range = pressure(v4_range, T_4)\n",
    "ax.plot(v4_range,p4_range)\n",
    "\n",
    "## showing the trapezoids for calculating the area under the curve\n",
    "for i in range(5):\n",
    "    ax.plot([v4_range[i], v4_range[i]], [0, p4_range[i]], linewidth = 1.5, linestyle=\"--\", color=\"gray\")\n",
    "    if i > 0:\n",
    "        ax.plot([v4_range[i-1], v4_range[i]], [p4_range[i-1], p4_range[i]], linewidth = 1.5, linestyle=\"--\", color=\"gray\")"
   ]
  },
  {
   "cell_type": "markdown",
   "metadata": {},
   "source": [
    "We approximate the area under the curve representing the isothermal process to trapezoids and sum their area. In this case, we have 4 of them. Generally, the area of each trapezoid is given by\n",
    "\n",
    "$$A = \\frac{f(x_1) + f(x_2)}{2}\\Delta x$$\n",
    "\n",
    "So here we have that for each trapezoid $i = {1,2,3,4}$, the area is\n",
    "\n",
    "$$A_i = \\frac{p_{i-1} + p_{i}}{2}(v_i - v_{i-1})$$ \n",
    "\n",
    "Therefore,\n",
    "\n",
    "$$W = \\sum_{i=1}^4 A_i$$"
   ]
  },
  {
   "cell_type": "code",
   "execution_count": null,
   "metadata": {},
   "outputs": [],
   "source": [
    "def trapez_area(v1,p1,v2,p2):\n",
    "    return \n",
    "\n",
    "W = 0\n",
    "for i in range(1,5,1):\n",
    "    W += trapez_area(v4_range[i-1], p4_range[i-1], v4_range[i], p4_range[i])\n",
    "\n",
    "print(f\"W = {W} J\")"
   ]
  },
  {
   "cell_type": "markdown",
   "metadata": {},
   "source": [
    "Note that work is negative, as it is done **on** the system. The sign is already in accordance with convention because the specific volume is decreasing in the range, $v_i < v_{i-1}$.\n",
    "\n",
    "Because we are working with an ideal gas, we know that the same amount of energy was transferred to the surroundings as heat.\n",
    "\n",
    "### Cyclic process\n",
    "\n",
    "Suppose we perform a process that goes back to **state 1** from state 4. "
   ]
  },
  {
   "cell_type": "code",
   "execution_count": null,
   "metadata": {},
   "outputs": [],
   "source": [
    "v_3 = v_2 #m3/mol\n",
    "T_3 = 350 #K\n",
    "p_3 = pressure(v_3, T_3) #Pa\n",
    "print(f\"p3 = {int(p_3)} Pa\")\n",
    "\n",
    "### plotting the p-v diagram\n",
    "fig, ax = plt.subplots()\n",
    "for i in range(0,len(T_range),5):\n",
    "    ax.plot(v[:,i], P[:,i], label='T = %i'%T[0,i], linewidth = 0.75)\n",
    "ax.legend()\n",
    "ax.set_xlim(0.01,0.09)\n",
    "ax.set_ylim(30000,280000)\n",
    "ax.set_ylabel('Pressure (Pa)')\n",
    "ax.set_xlabel('Specific volume (m3/mol)')\n",
    "#####\n",
    "\n",
    "### adding states\n",
    "ax.scatter(v_1, p_1, color = \"red\")\n",
    "ax.scatter([v_2, v_3, v_4], [p_2, p_3, p_4])\n",
    "ax.plot([v_1, v_2, v_3], [p_1, p_2, p_3], color = \"blue\")\n",
    "ax.plot(v4_range,p4_range, color = \"blue\")\n",
    "ax.plot([v_4, v_1], [p_4, p_1], color = \"blue\")\n"
   ]
  },
  {
   "cell_type": "markdown",
   "metadata": {},
   "source": [
    "If  we account for all processes we have seen so far together, they form a cyclic process, since it starts and ends at the same state. Because of that, $\\Delta U = 0$ and the same amount of energy exchanged with the surroundings as work needs to be exhanged as heat, $W = Q$, throughout the process.\n",
    "\n",
    "### Adiabatic process\n",
    "\n",
    "Adiabatic processes do not exchange heat with the surroundings, so the difference in the internal energy from state 4 to state 1 is solely due to exchanges in the form of work, $\\Delta U = - W$. \n",
    "\n",
    "For the last step in the cyclic process, we just considered a process that goes from state 4 to state 1 in a straight line in the p-v diagram. \n",
    "\n",
    "Could this process be adiabatic?\n",
    "\n",
    "Remember that for ideal gases, the properties at the initial and final states have special relationships\n",
    "\n",
    "$$T_1V_1^{\\gamma - 1} = T_2V_2^{\\gamma - 1}$$\n",
    "\n",
    "$$\\frac{p_2}{p_1} = \\bigg( \\frac{V_1}{V_2} \\bigg)^{\\gamma}$$\n",
    "\n",
    "where $\\gamma$ is the adiabatic index.\n",
    "\n",
    "We can use one of these relationships to check whether we can have an adiabatic process going from state 4 to state 1. Assume we have a diatomic gas and, therefore, $\\gamma = 1.4$."
   ]
  },
  {
   "cell_type": "code",
   "execution_count": null,
   "metadata": {},
   "outputs": [],
   "source": [
    "gamma = 1.4\n",
    "print(f\"p1 = {p_1} Pa\")\n",
    "print(f\"T1 = {T_1} K\")\n",
    "\n"
   ]
  },
  {
   "cell_type": "markdown",
   "metadata": {},
   "source": [
    "We can see that a process that would take the system back to state 1 would not be adiabatic.\n",
    "\n",
    "However, if we were to perform a adiabatic compression from state 4 to a new **state 5** with $v_5 = v_1 = 0.015 m^3/mol$, where would state 5 be in the p-v diagram then?"
   ]
  },
  {
   "cell_type": "code",
   "execution_count": null,
   "metadata": {},
   "outputs": [],
   "source": [
    "v_5 = v_1\n",
    "p_5 = \n",
    "\n",
    "### plotting the p-v diagram\n",
    "fig, ax = plt.subplots()\n",
    "for i in range(0,len(T_range),5):\n",
    "    ax.plot(v[:,i], P[:,i], label='T = %i'%T[0,i], linewidth = 0.75)\n",
    "ax.legend()\n",
    "ax.set_xlim(0.01,0.09)\n",
    "ax.set_ylim(30000,280000)\n",
    "ax.set_ylabel('Pressure (Pa)')\n",
    "ax.set_xlabel('Specific volume (m3/mol)')\n",
    "#####\n",
    "\n",
    "### adding states\n",
    "ax.scatter([v_4, v_5], [p_4, p_5])"
   ]
  },
  {
   "cell_type": "markdown",
   "metadata": {},
   "source": [
    "An adiabatic process is not represented by a straight line in the p-v diagram. Therefore, to visualize the process, we need to follow the same procedure as we did for isothermal processes.\n",
    "\n",
    "However, in this case, to calculate the pressure for each discretized volume between $v_4$ and $v_5$, we need to use one known state as reference, such as $v_4$, as follows:"
   ]
  },
  {
   "cell_type": "code",
   "execution_count": null,
   "metadata": {},
   "outputs": [],
   "source": [
    "def adiabatic_pressure(v1,p1,v2,gamma):\n",
    "    return \n",
    "\n",
    "v5_range = np.linspace(v_4,v_5,10)\n",
    "p5_range = adiabatic_pressure(v_4, p_4, v5_range, gamma)\n",
    "\n",
    "ax.plot(v5_range, p5_range) \n",
    "\n",
    "# if you are not in the Anaconda environment, you can copy this cell and paste it \n",
    "# in the previous one after the existing code"
   ]
  },
  {
   "cell_type": "markdown",
   "metadata": {},
   "source": [
    "We used the initial state 4 as reference and calculated the pressure for volumes ranging from $v_4$ to $v_5$ to create a curve representing this adiabatic process."
   ]
  }
 ],
 "metadata": {
  "kernelspec": {
   "display_name": "Python 3",
   "language": "python",
   "name": "python3"
  },
  "language_info": {
   "codemirror_mode": {
    "name": "ipython",
    "version": 3
   },
   "file_extension": ".py",
   "mimetype": "text/x-python",
   "name": "python",
   "nbconvert_exporter": "python",
   "pygments_lexer": "ipython3",
   "version": "3.8.5"
  }
 },
 "nbformat": 4,
 "nbformat_minor": 2
}
