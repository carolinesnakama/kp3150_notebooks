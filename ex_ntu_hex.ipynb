{
  "cells": [
    {
      "cell_type": "markdown",
      "metadata": {
        "id": "n_cXhKIho4MW"
      },
      "source": [
        "# Effectiveness-NTU Method\n",
        "\n",
        "### Numerical Example\n",
        "\n",
        "Hot exhaust gases are used to heat pressurized water at a flow rate of 1 kg/s from 35 to 125 $^o$ C. The gases enter a finned-tube cross-flow heat exchanger at 300 $^o$ C and leave at 100 $^o$ C. The overall heat transfer coefficient $U$ = 100 W/m $^2$ K. Determine the required surface area using the NTU method. (Specific heat capacity of water at the mean temperature 80 $^o$ C: $C_p$ = 4197 J/kg.K)\n",
        "\n",
        "#### Solution\n",
        "\n",
        "Assumptions:\n",
        "- Negligible heat loss to the surrounding and kinetic and potential energy changes\n",
        "- Constant properties\n",
        "\n",
        "We want to obtain the required surface area for the heat exchanger, $A$, from the number of transfer units, $NTU$. From its definition, we have that\n",
        "$$\n",
        "  NTU = \\frac{UA}{C_\\text{min}}.\n",
        "$$\n",
        "$U$ is known, $A$ is what we want to find, so we need to calculate both $C_\\text{min}$ and $NTU$.\n",
        "\n",
        "We can begin by importing the necessary functions (the exponential function from the math library and a solver for nonlinear equations from scipy) and creating variables with the information that has been provided.\n"
      ]
    },
    {
      "cell_type": "code",
      "execution_count": null,
      "metadata": {
        "id": "Wo66bZWuoTm5"
      },
      "outputs": [],
      "source": [
        "from math import exp\n",
        "from scipy.optimize import fsolve\n",
        "\n",
        "mC = 1      # kg/s\n",
        "TCi = 35    # oC\n",
        "TCo = 125   # oC\n",
        "CpC = 4197  # J/kg.K\n",
        "mCC = mC*CpC\n",
        "\n",
        "THi = 300   # oC\n",
        "THo = 100   # oC\n",
        "\n",
        "U = 100     # W/m2K"
      ]
    },
    {
      "cell_type": "markdown",
      "metadata": {
        "id": "dEoubJf1te8n"
      },
      "source": [
        "Now, let's start our calculations with $C_\\text{min}$, since we need it to calculate $NTU$. For the cold side (water), we already have $\\dot{m}_CC_{pC}$ (variable ```mCC```). We need to calculate $\\dot{m}_HC_{pH}$ (let's call the varaible ```mCH```) to find which one is minimum. From the energy balance, we have that the energy transferred to the cold fluid (water) is equal to the energy transferred from the hot fluid (exhaust gases)\n",
        "$$\n",
        "\\dot{m}_HC_{pH}(T_{H,i} - T_{H,o}) = \\dot{m}_CC_{pC}(T_{C,o} - T_{C,i})\n",
        "$$\n",
        "\n",
        "$$\n",
        "\\dot{m}_HC_{pH} = \\frac{\\dot{m}_CC_{pC}(T_{C,o} - T_{C,i})}{(T_{H,i} - T_{H,o})}\n",
        "$$"
      ]
    },
    {
      "cell_type": "code",
      "execution_count": null,
      "metadata": {
        "id": "qwYvJAB8vkit"
      },
      "outputs": [],
      "source": [
        "mCH = "
      ]
    },
    {
      "cell_type": "markdown",
      "metadata": {
        "id": "UFdO8swGwDLr"
      },
      "source": [
        "We can now get $C_\\text{min}$."
      ]
    },
    {
      "cell_type": "code",
      "execution_count": null,
      "metadata": {
        "id": "-3N6EuGLwepj"
      },
      "outputs": [],
      "source": [
        "Cmin = min(mCC, mCH)"
      ]
    },
    {
      "cell_type": "markdown",
      "metadata": {
        "id": "LWjjajnkwpYx"
      },
      "source": [
        "We need to calculate $NTU$ now. We can get it from the effectiveness $\\varepsilon$. Let's calculate $\\varepsilon$ from its definition.\n",
        "$$\n",
        "  \\varepsilon = \\frac{q}{q_\\text{max}}.\n",
        "$$\n",
        "$q$ is the amount of heat transferred from the hot side to the cold side\n",
        "$$\n",
        "  q = \\dot{m}_CC_{pC}(T_{c,o} - T_{C,i}),\n",
        "$$"
      ]
    },
    {
      "cell_type": "code",
      "execution_count": null,
      "metadata": {
        "id": "_mfUz_tvxLgZ"
      },
      "outputs": [],
      "source": [
        "q = "
      ]
    },
    {
      "cell_type": "markdown",
      "metadata": {
        "id": "GCuedFqkxdH5"
      },
      "source": [
        "and $q_\\text{max}$ is given by\n",
        "$$\n",
        "  q_\\text{max} = C_\\text{min}(T_{H,i} - T_{C,i})\n",
        "$$"
      ]
    },
    {
      "cell_type": "code",
      "execution_count": null,
      "metadata": {
        "id": "tIswd57axu5N"
      },
      "outputs": [],
      "source": [
        "qmax =\n",
        "\n",
        "eps ="
      ]
    },
    {
      "cell_type": "markdown",
      "metadata": {
        "id": "d0sOvNi6x2z5"
      },
      "source": [
        "We also need to define the ratio between $C_\\text{min}$ and $C_\\text{max}$ (variable ```Cr```)"
      ]
    },
    {
      "cell_type": "code",
      "execution_count": null,
      "metadata": {
        "id": "CTNn-ykXyNMU"
      },
      "outputs": [],
      "source": [
        " Cr = "
      ]
    },
    {
      "cell_type": "markdown",
      "metadata": {
        "id": "2u0A2HjOyVBS"
      },
      "source": [
        "to use it to calculate NTU from the expression for $\\varepsilon$ for this **cross-flow** heat exchanger in which **both fluids are unmixed** (we can look up the expression in the lecture notes).\n",
        "\n",
        "Now we need to write this expression as an equation of the form\n",
        "$$\n",
        "\\varepsilon - f(NTU, C_r) = 0.\n",
        "$$\n",
        "The python function for the expression needs to return an equation that is equal to zero so we can use it with the ```fsolve``` function that will solve the nonlinear equation. It also needs to take as first argument the variable that we want to find the value for and an array with parameters as second argument. (We did this in the Energy Balance Example Notebook in Lecture 4 - Introduction to Heat Transfer)"
      ]
    },
    {
      "cell_type": "code",
      "execution_count": null,
      "metadata": {
        "id": "OmDCH7PT0wMw"
      },
      "outputs": [],
      "source": [
        "def effectiveness(NTU, par):\n",
        "  eps, Cr = par\n",
        "  return"
      ]
    },
    {
      "cell_type": "markdown",
      "metadata": {
        "id": "WouvyUge03aO"
      },
      "source": [
        "To calculate NTU we now need to solve the equation above. Remember we need to give an initial guess to the variable we want to find the value (here we called the variable with the initial guess ```NTU0```)"
      ]
    },
    {
      "cell_type": "code",
      "execution_count": null,
      "metadata": {
        "id": "0ZD6f7B21GNW"
      },
      "outputs": [],
      "source": [
        "NTU0 = 1.0\n",
        "par = []\n",
        "NTU = fsolve(effectiveness, NTU0, par)\n",
        "print(NTU)"
      ]
    },
    {
      "cell_type": "markdown",
      "metadata": {
        "id": "Phmzspj_2tEg"
      },
      "source": [
        "Now that we have $NTU$ and $C_\\text{min}$, we can calculate the required area $A$ "
      ]
    },
    {
      "cell_type": "code",
      "execution_count": null,
      "metadata": {
        "id": "H2w9Ypn627BY"
      },
      "outputs": [],
      "source": [
        "A = \n",
        "print(A)"
      ]
    }
  ],
  "metadata": {
    "colab": {
      "name": "ex_ntu_hex.ipynb",
      "provenance": []
    },
    "kernelspec": {
      "display_name": "Python 3",
      "name": "python3"
    },
    "language_info": {
      "name": "python"
    }
  },
  "nbformat": 4,
  "nbformat_minor": 0
}
