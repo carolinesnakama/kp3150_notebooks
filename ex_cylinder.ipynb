{
  "nbformat": 4,
  "nbformat_minor": 0,
  "metadata": {
    "colab": {
      "name": "ex_cylinder.ipynb",
      "provenance": [],
      "collapsed_sections": []
    },
    "kernelspec": {
      "name": "python3",
      "display_name": "Python 3"
    },
    "language_info": {
      "name": "python"
    }
  },
  "cells": [
    {
      "cell_type": "markdown",
      "metadata": {
        "id": "0gUBWR7BK4vB"
      },
      "source": [
        "# One-dimensional Radial System\n",
        "\n",
        "## Numerical Example\n",
        "\n",
        "The possible existence of an optimum insulation thickness for radial systems is suggested by the presence of competing effects associated with an increase in this thickness. In particular, although the conduction resistance increases with the addition of insulation the convection resistance decreases due to increasing outer surface area. Hence there may exist an insulation thickness that minimizes heat loss by maximizing the total resistance to heat transfer. Resolve this issue by considering the following system.\n",
        "\n",
        "a) A thin-walled copper tube of radius $r_i$ is used to transport a low-temperature refrigerant and is at a temperature $T_i$ that is less than that of the ambient air at $T_\\infty$ around the tube. Is there an optimum thickness associated with application of insulation to the tube?\n",
        "\n",
        "b) Confirm the above result by computing the total thermal resistance por unit length of tube for a 10-mm-diameter tube having insulation thickness ranging from 0 to 40 mm. The insulation has thermal conductivity k = 0.055 W/m.K and the outer surface convection coefficient is 5 W/m$^2$K.\n",
        "\n",
        "We can start by importing the packages and functions needed"
      ]
    },
    {
      "cell_type": "code",
      "metadata": {
        "id": "IYd_j2W1K2ux"
      },
      "source": [
        "import matplotlib.pyplot as plt\n",
        "import numpy as np\n",
        "from scipy.optimize import minimize\n",
        "from math import pi, log"
      ],
      "execution_count": null,
      "outputs": []
    },
    {
      "cell_type": "markdown",
      "metadata": {
        "id": "PgT185REOzxZ"
      },
      "source": [
        "We first analyzed the problem symbolic, but we could also have approached it numerically. For that, we need the numerical values given in item b."
      ]
    },
    {
      "cell_type": "code",
      "metadata": {
        "id": "OYcfwlk4PGPh"
      },
      "source": [
        "k = 0.055    # W/m.K\n",
        "h = 5        # W/m2K\n",
        "ri = 5e-3    # m"
      ],
      "execution_count": null,
      "outputs": []
    },
    {
      "cell_type": "markdown",
      "metadata": {
        "id": "0KXn9FPlP0x1"
      },
      "source": [
        "We need to write a function for the total thermal resistance per unit length of the tube, $R'_\\text{tot}$"
      ]
    },
    {
      "cell_type": "code",
      "metadata": {
        "id": "efHjilrAQCPU"
      },
      "source": [
        "def resistance(r, par):\n",
        "  k, h, ri = par\n",
        "  return log(r/ri)/(2*pi*k) + 1/(2*pi*r*h)"
      ],
      "execution_count": null,
      "outputs": []
    },
    {
      "cell_type": "markdown",
      "metadata": {
        "id": "8dqZY_x6RzbE"
      },
      "source": [
        "We can now try to maximize $R'_\\text{tot}$. "
      ]
    },
    {
      "cell_type": "code",
      "metadata": {
        "id": "7Uv0fqfSSBMY"
      },
      "source": [
        "r0 = 1e-2     # initial guess\n",
        "sol = minimize(lambda r: -resistance(r, [k,h,ri]), r0)\n",
        "print(sol)"
      ],
      "execution_count": null,
      "outputs": []
    },
    {
      "cell_type": "markdown",
      "metadata": {
        "id": "80uamqvjU9is"
      },
      "source": [
        "The error returned above, in this case, means that the problem is unbounded. That is, it cannot find a maximum value, $R'_\\text{tot}$ goes to infinity when we try to maximize it. \n",
        "\n",
        "We can now try to minimize it."
      ]
    },
    {
      "cell_type": "code",
      "metadata": {
        "id": "0RjybH6xVlVe"
      },
      "source": [
        "r0 = 1e-2     # initial guess\n",
        "sol = minimize(resistance, r0, [k,h,ri])\n",
        "print(sol)"
      ],
      "execution_count": null,
      "outputs": []
    },
    {
      "cell_type": "markdown",
      "metadata": {
        "id": "EU9EgkFuVso4"
      },
      "source": [
        "$R'_\\text{tot}$ has indeed a minimum value, which is stored in ``sol.fun``. "
      ]
    },
    {
      "cell_type": "code",
      "metadata": {
        "id": "zoJ8n8zfWSFQ"
      },
      "source": [
        "print(sol.fun)"
      ],
      "execution_count": null,
      "outputs": []
    },
    {
      "cell_type": "markdown",
      "metadata": {
        "id": "qpmWVoVbWVgn"
      },
      "source": [
        "``sol.x`` stores the corresponding value of $r$. If we want to find the insulation thickness for which $R'_\\text{tot}$ is minimum, we need to calculate \n",
        "\n",
        "1.   List item\n",
        "2.   List item\n",
        "\n"
      ]
    },
    {
      "cell_type": "code",
      "metadata": {
        "id": "UnNDdc3eXAG9"
      },
      "source": [
        "print(sol.x[0] - ri)"
      ],
      "execution_count": null,
      "outputs": []
    },
    {
      "cell_type": "markdown",
      "metadata": {
        "id": "cmG8qalBXK6n"
      },
      "source": [
        "We can plot $R'_\\text{tot}$ as a function of the insulation thickness to solve item b. We can also plot the thermal resistance associated with conduction and the thermal resistance associated with convection seperately. For that we need to define new functions"
      ]
    },
    {
      "cell_type": "code",
      "metadata": {
        "id": "EzHypCW_YO3N"
      },
      "source": [
        "def conduction(r, k, ri):\n",
        "  return log(r/ri)/(2*pi*k)\n",
        "\n",
        "def convection(r, h):\n",
        "  return 1/(2*pi*r*h)"
      ],
      "execution_count": null,
      "outputs": []
    },
    {
      "cell_type": "markdown",
      "metadata": {
        "id": "6HxM-plZYi9x"
      },
      "source": [
        "And the range for the insulation thickness"
      ]
    },
    {
      "cell_type": "code",
      "metadata": {
        "id": "rbNPMHf3YoV1"
      },
      "source": [
        "t = np.arange(0.0, 0.04, 0.001)"
      ],
      "execution_count": null,
      "outputs": []
    },
    {
      "cell_type": "markdown",
      "metadata": {
        "id": "r2VWImTQY8wm"
      },
      "source": [
        "We can define an array with all $R'_\\text{tot}$, $R'_\\text{cond}$, and $R'_\\text{conv}$ calculated for each $r$ that can be defined with each value of thickness in range ``t``   "
      ]
    },
    {
      "cell_type": "code",
      "metadata": {
        "id": "DWD95rw_Zaei"
      },
      "source": [
        "Rt = np.array([resistance(ti + ri, [k, h, ri]) for ti in t])\n",
        "Rcd = np.array([conduction(ti + ri, k, ri) for ti in t])\n",
        "Rcv = np.array([convection(ti + ri, h) for ti in t])"
      ],
      "execution_count": null,
      "outputs": []
    },
    {
      "cell_type": "markdown",
      "metadata": {
        "id": "5YPN_-vLbUvG"
      },
      "source": [
        "Plotting the results"
      ]
    },
    {
      "cell_type": "code",
      "metadata": {
        "id": "LgFGcrmgbX-4"
      },
      "source": [
        "fig = plt.figure()\n",
        "ax = fig.add_subplot(111)\n",
        "ax.plot(t, Rt, label = 'Total')\n",
        "ax.plot(t, Rcd, label = 'Conduction')\n",
        "ax.plot(t, Rcv, label = 'Convection')\n",
        "ax.set_ylabel('Thermal Resistance (m.K/W)')\n",
        "ax.set_xlabel('Insulation thickness (m)')\n",
        "ax.legend()"
      ],
      "execution_count": null,
      "outputs": []
    }
  ]
}