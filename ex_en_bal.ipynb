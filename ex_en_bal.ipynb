{
  "cells": [
    {
      "cell_type": "markdown",
      "metadata": {
        "id": "RVT-LY085mBK"
      },
      "source": [
        "# Surface Energy Balance\n",
        "\n",
        "## Numerical Example\n",
        "\n",
        "Humans are able to control their rates of heat production and heat loss to maintain a nearly constant core temperature of $T_c$ = 37 °C under a wide range of environmental conditions. This process is called thermoregulation. From the perspective of calculating heat transfer between a human body and its surroundings, we can define the control volume to be the interface between the surface of a layer of skin and fat, and the environment. The inner surface is slightly less than the core temperature $T_i$ = 35 °C.\n",
        "Consider a person with a skin/fat layer of thickness L = 3 mm and effective thermal conductivity k = 0.3 W/m $\\cdot$ K. The person has a surface area A = 1.8 m $^2$ and the emissivity of the skin is ε = 0.95.\n",
        "When the person is in still air at $T_\\infty$ = 297 K, what is the skin surface temperature and rate of heat loss to the environment? Convection heat transfer to the air is characterized by a free convection coefficient of h = 2 W/m $^2$ K."
      ]
    },
    {
      "cell_type": "markdown",
      "metadata": {
        "id": "k_clB62u_Lyi"
      },
      "source": [
        "We first need to import the function we will use to solve the nonlinear equation. "
      ]
    },
    {
      "cell_type": "code",
      "execution_count": null,
      "metadata": {
        "id": "Kxl7qo7I_c8P"
      },
      "outputs": [],
      "source": [
        "from scipy.optimize import fsolve"
      ]
    },
    {
      "cell_type": "markdown",
      "metadata": {
        "id": "LyNZsM6M_gsO"
      },
      "source": [
        "Then we need to write a python function that returns the equation we want to find the root. This function must take the variable as the first argument. The second argument is a list of parameters used in the equation."
      ]
    },
    {
      "cell_type": "code",
      "execution_count": null,
      "metadata": {
        "id": "l1cZgg_S6CyM"
      },
      "outputs": [],
      "source": [
        "def equation(Ts, par):\n",
        "    \n",
        "    return \n"
      ]
    },
    {
      "cell_type": "markdown",
      "metadata": {
        "id": "UMTVtCPl_3tr"
      },
      "source": [
        "We can now define the parameters (note that they have to be in the same order as we defined them in the function) and solve the equation. The fsolve function takes as arguments the function returning the equation, an initial estimate of the variable and the parameters.  "
      ]
    },
    {
      "cell_type": "code",
      "execution_count": null,
      "metadata": {
        "id": "OB_H88Xs_4zI"
      },
      "outputs": [],
      "source": [
        "par = []\n",
        "T0 = \n",
        "T =  fsolve(equation, T0, par)  \n",
        "print(T)"
      ]
    },
    {
      "cell_type": "markdown",
      "metadata": {
        "id": "XtBGr9yXAOgI"
      },
      "source": [
        "We can now calculate the heat loss using the condution equation"
      ]
    },
    {
      "cell_type": "code",
      "execution_count": null,
      "metadata": {
        "id": "6KmyAUqQAL-z"
      },
      "outputs": [],
      "source": [
        "q_loss = "
      ]
    },
    {
      "cell_type": "markdown",
      "metadata": {
        "id": "JXhLPKUeBXf7"
      },
      "source": [
        "Note that we could have calculated the sum of $q_\\text{conv}$ and $q_\\text{rad}$ as well. "
      ]
    }
  ],
  "metadata": {
    "colab": {
      "collapsed_sections": [],
      "name": "ex_en_bal.ipynb",
      "provenance": []
    },
    "kernelspec": {
      "display_name": "Python 3",
      "name": "python3"
    }
  },
  "nbformat": 4,
  "nbformat_minor": 0
}
