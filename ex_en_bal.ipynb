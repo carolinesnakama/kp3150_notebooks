{
  "nbformat": 4,
  "nbformat_minor": 0,
  "metadata": {
    "colab": {
      "name": "ex_en_bal.ipynb",
      "provenance": [],
      "collapsed_sections": []
    },
    "kernelspec": {
      "name": "python3",
      "display_name": "Python 3"
    }
  },
  "cells": [
    {
      "cell_type": "markdown",
      "metadata": {
        "id": "RVT-LY085mBK"
      },
      "source": [
        "# Surface Energy Balance\r\n",
        "\r\n",
        "## Numerial Example\r\n",
        "\r\n",
        "Humans are able to control their rates of heat production and heat loss to maintain a nearly constant core temperature of T$_c$ = 37 °C under a wide range of environmental conditions. This process is called thermoregulation. From the perspective of calculating heat transfer between a human body and its surroundings, we can define the control volume to be the interface between the surface of a layer of skin and fat, and the environment. The inner surface is slightly less than the core temperature T$_i$ = 35 °C.\r\n",
        "Consider a person with a skin/fat layer of thickness L = 3 mm and effective thermal conductivity k = 0.3 W/m$\\cdot$K. The person has a surface area A = 1.8 m$^2$ and the emissivity of the skin is ε = 0.95.\r\n",
        "When the person is in still air at T$_\\infty$ = 297 K, what is the skin surface temperature and rate of heat loss to the environment? Convection heat transfer to the air is characterized by a free convection coefficient of h = 2 W/m$^2$K."
      ]
    },
    {
      "cell_type": "markdown",
      "metadata": {
        "id": "k_clB62u_Lyi"
      },
      "source": [
        "We first need to import the function we will use to solve the nonlinear equation. "
      ]
    },
    {
      "cell_type": "code",
      "metadata": {
        "id": "Kxl7qo7I_c8P"
      },
      "source": [
        "from scipy.optimize import fsolve"
      ],
      "execution_count": null,
      "outputs": []
    },
    {
      "cell_type": "markdown",
      "metadata": {
        "id": "LyNZsM6M_gsO"
      },
      "source": [
        "Then we need to write a python function that returns the equation we want to find the root. This function must take the variable as the first argument. The second argument is a list of parameters used in the equation."
      ]
    },
    {
      "cell_type": "code",
      "metadata": {
        "id": "l1cZgg_S6CyM"
      },
      "source": [
        "def equation(Ts, par):\r\n",
        "    \r\n",
        "    return \r\n"
      ],
      "execution_count": null,
      "outputs": []
    },
    {
      "cell_type": "markdown",
      "metadata": {
        "id": "UMTVtCPl_3tr"
      },
      "source": [
        "We can now define the parameters (note that they have to be in the same order as we defined them in the function) and solve the equation. The fsolve function takes as arguments the function returning the equation, an initial estimate of the variable and the parameters.  "
      ]
    },
    {
      "cell_type": "code",
      "metadata": {
        "id": "OB_H88Xs_4zI"
      },
      "source": [
        "par = []\r\n",
        "T0 = \r\n",
        "T =  fsolve(equation, T0, par)  \r\n",
        "print(T)"
      ],
      "execution_count": null,
      "outputs": []
    },
    {
      "cell_type": "markdown",
      "metadata": {
        "id": "XtBGr9yXAOgI"
      },
      "source": [
        "We can now calculate the heat loss using the condution equation"
      ]
    },
    {
      "cell_type": "code",
      "metadata": {
        "id": "6KmyAUqQAL-z"
      },
      "source": [
        "q_loss = "
      ],
      "execution_count": null,
      "outputs": []
    },
    {
      "cell_type": "markdown",
      "metadata": {
        "id": "JXhLPKUeBXf7"
      },
      "source": [
        "Note that we could have calculated the sum of q$_\\text{conv}$ and q$_\\text{rad}$ as well. "
      ]
    }
  ]
}