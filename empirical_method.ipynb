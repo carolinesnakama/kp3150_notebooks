{
  "cells": [
    {
      "cell_type": "markdown",
      "metadata": {
        "id": "Ag3BSdt-n2bX"
      },
      "source": [
        "# The empirical method for finding $Nu$\n",
        "\n",
        "We want to use experimental data to find an expression for the Nusselt number, $Nu$ for a defined surface geometry. \n",
        "\n",
        "A simple experiment that can be perfomed is a flat plate which surface is kept at a uniform known constant temperature $T_s$ by an electric heating element with known power. If we minimize losses, we can obtain the rate of heat transferred to the fluid at the surface. Forced convection can be induced with a fluid flowing over it with known temperature $T_\\infty$ and velocity $u_\\infty$. The average convection coefficient $\\bar{h}$ can be calculated by\n",
        "\n",
        "$$\\bar{h} = \\frac{q''}{T_s - T_\\infty}.$$\n",
        "\n",
        "Knowing the characteristic length of the surface and the fluid properties, we can calculate the Nusselt ($Nu$), Reynolds ($Re$) and Prandtl ($Pr$) numbers using their definitions. Having the dimensionless number, we can obtain an expression that correlates them.\n",
        "\n",
        "### How does this calculation look like?\n",
        "\n",
        "Consider the following data for an experiment like the one described above. Four different fluids at 290 K were used with different velocity values. The plate surface was kept uniformly at 310 K and the heat flux $q''$ was obtained for each condition.\n",
        "\n",
        "\n"
      ]
    },
    {
      "cell_type": "code",
      "execution_count": null,
      "metadata": {
        "id": "HolQ_p5nn1Ps"
      },
      "outputs": [],
      "source": [
        "import numpy as np\n",
        "\n",
        "# characteristic length of the plate\n",
        "L = 1     # in m\n",
        "\n",
        "# Temperatures\n",
        "Tinf = 290               # in K\n",
        "Ts = 310                 # in K\n",
        "Tf = (Tinf + Ts)/2       # in K\n",
        "\n",
        "# Air\n",
        "air_k = 26.3e-3    # at 300 K in W/mK\n",
        "air_v = 15.89e-6   # at 300 K in m2/s\n",
        "air_Pr = 0.707     # at 300 K\n",
        "air_velocity = np.arange(0.1, 0.6, 0.1)                      # in m/s\n",
        "air_heat = np.array([20.6, 38.0, 39.4, 56.8, 51.6])          # in W/m2\n",
        "\n",
        "# Engine oil\n",
        "oil_k = 145e-3     # at 300 K in W/mK\n",
        "oil_v = 550e-6     # at 300 K in m2/s\n",
        "oil_Pr = 6400      # at 300 K\n",
        "oil_velocity = np.arange(1.0, 6.0, 1.0)                      # in m/s\n",
        "oil_heat = np.array([1460., 2122., 2676., 2956., 3400.])     # in W/m2 \n",
        "\n",
        "# Ethylene Glycol\n",
        "glycol_k = 252e-3    # at 300 K in W/mK\n",
        "glycol_v = 14.1e-6   # at 300 K in m2/s\n",
        "glycol_Pr = 151      # at 300 K\n",
        "glycol_velocity = np.arange(0.1, 0.6, 0.1)                   # in m/s\n",
        "glycol_heat = np.array([1471., 2073., 2507., 2948., 3360.])  # in W/m2\n",
        "\n",
        "# Water\n",
        "water_k = 613e-3       # at 300 K in W/mK\n",
        "water_v = 855e-6/997   # at 300 K in m2/s\n",
        "water_Pr = 5.83        # at 300 K\n",
        "water_velocity = np.arange(0.01, 0.06, 0.01)                 # in m/s\n",
        "water_heat = np.array([1621., 2230., 2763., 3017., 3492.])   # in W/m2"
      ]
    },
    {
      "cell_type": "markdown",
      "metadata": {
        "id": "LQFh-fEgYAB_"
      },
      "source": [
        "We can now calculate the experimental convection coefficient for each data point"
      ]
    },
    {
      "cell_type": "code",
      "execution_count": null,
      "metadata": {
        "id": "NgwOXqHMYIaq"
      },
      "outputs": [],
      "source": [
        "# convection coefficient air\n",
        "air_h = air_heat/(Ts - Tinf)\n",
        "print('h_air =', air_h)\n",
        "\n",
        "# convection coefficient engine oil\n",
        "oil_h = \n",
        "print('h_oil =', oil_h)\n",
        "\n",
        "# convection coefficient ethylene glycol\n",
        "glycol_h = \n",
        "\n",
        "\n",
        "# convection coefficient water\n",
        "water_h = \n",
        "\n"
      ]
    },
    {
      "cell_type": "markdown",
      "metadata": {
        "id": "pBOyNmU7b4DK"
      },
      "source": [
        "and calculate the Nusselt number, $\\bar{Nu_L} = \\bar{h}L/k$, for each point as well. We can write a function for that"
      ]
    },
    {
      "cell_type": "code",
      "execution_count": null,
      "metadata": {
        "id": "jRAG1xdlcC53"
      },
      "outputs": [],
      "source": [
        "def nusselt(h, k, L):\n",
        "  "
      ]
    },
    {
      "cell_type": "markdown",
      "metadata": {
        "id": "tqJJDz5ccaTY"
      },
      "source": [
        "and pass the array with convection coefficients $h$ that we have just calculated."
      ]
    },
    {
      "cell_type": "code",
      "execution_count": null,
      "metadata": {
        "id": "j99GxV6wdOlz"
      },
      "outputs": [],
      "source": [
        "air_Nu = nusselt(air_h, air_k, L)\n",
        "print('Nu_air =', air_Nu)\n",
        "oil_Nu = nusselt(oil_h, oil_k, L)\n",
        "print('Nu_oil =', oil_Nu)\n",
        "glycol_Nu = nusselt(glycol_h, glycol_k, L)\n",
        "print('Nu_glycol =', glycol_Nu)\n",
        "water_Nu = nusselt(water_h, water_k, L)\n",
        "print('Nu_water =', water_Nu)"
      ]
    },
    {
      "cell_type": "markdown",
      "metadata": {
        "id": "98c8UzrQgJZb"
      },
      "source": [
        "We already have the Prandtl number, $Pr$, for each fluid (since its a property of the substance), so we need to calculate the Reynolds number, $Re_L = u_\\infty L/\\nu$."
      ]
    },
    {
      "cell_type": "code",
      "execution_count": null,
      "metadata": {
        "id": "T0CF1WrZggKQ"
      },
      "outputs": [],
      "source": [
        "def reynolds():\n",
        "  \n",
        "\n",
        "air_Re = reynolds(air_velocity, L, air_v)\n",
        "print('Re_air =', air_Re)\n",
        "oil_Re = reynolds(oil_velocity, L, oil_v)\n",
        "print('Re_oil =', oil_Re)\n",
        "glycol_Re = reynolds(glycol_velocity, L, glycol_v)\n",
        "print('Re_glycol =', glycol_Re)\n",
        "water_Re = reynolds(water_velocity, L, water_v)\n",
        "print('Re_water =', water_Re)"
      ]
    },
    {
      "cell_type": "markdown",
      "metadata": {
        "id": "INNWvoUjgmov"
      },
      "source": [
        "Now that we have all the information we need, how do we define a correlation for $Nu$, $Re$ and $Pr$?\n",
        "\n",
        "Ideally, we need to know how the expression should look like so we can find the parameters. In this case, we know that the correlation has the form\n",
        "$$ \\bar{Nu_L} = C Re_L^m Pr^n. $$\n",
        "So we can perfom a curve fitting with the data we have to find $C$, $m$, and $n$.\n",
        "\n",
        "First, we need to organize the data in a way that we can use all of them at once. We will concatenate the four vectors we have for both $Re$ and $Nu$ into one big vector and create a big vector for $Pr$ of the same size."
      ]
    },
    {
      "cell_type": "code",
      "execution_count": null,
      "metadata": {
        "id": "gLu6WIjgi1vN"
      },
      "outputs": [],
      "source": [
        "Re = np.concatenate((air_Re, oil_Re, glycol_Re, water_Re))\n",
        "Nu = np.concatenate((air_Nu, oil_Nu, glycol_Nu, water_Nu))\n",
        "Pr = np.concatenate((air_Pr*np.ones(5), oil_Pr*np.ones(5), glycol_Pr*np.ones(5), water_Pr*np.ones(5)))"
      ]
    },
    {
      "cell_type": "markdown",
      "metadata": {
        "id": "61GjuJQ5xgpO"
      },
      "source": [
        "Then we need to create an array with the dependent variables (the number of rows is the number of variables and the number of columns is how many data points we have) and an array with the independent variable (a vector of the size of the number of data points)."
      ]
    },
    {
      "cell_type": "code",
      "execution_count": null,
      "metadata": {
        "id": "Vmtn4ce7xhH1"
      },
      "outputs": [],
      "source": [
        "xdata = np.concatenate((np.reshape(Re, (1,-1)),np.reshape(Pr, (1,-1))), axis = 0)    # arranging the independent variables Re (first row x[0]) and Pr (second row x[1]) in the right shape \n",
        "ydata = Nu    # defining the dependent variable Nu"
      ]
    },
    {
      "cell_type": "markdown",
      "metadata": {
        "id": "TccCNkEAplKt"
      },
      "source": [
        "We also need to define a function with the expression for the correlation with the variables and parameters ($C$, $m$, $n$) we want to find."
      ]
    },
    {
      "cell_type": "code",
      "execution_count": null,
      "metadata": {
        "id": "zaaEIxG7qGrp"
      },
      "outputs": [],
      "source": [
        "def correlation(x, C, m, n):\n",
        "  return C*x[0]**m*x[1]**n"
      ]
    },
    {
      "cell_type": "markdown",
      "metadata": {
        "id": "T5s9mc9jqYag"
      },
      "source": [
        "We will now import the solver and perform the curve fitting."
      ]
    },
    {
      "cell_type": "code",
      "execution_count": null,
      "metadata": {
        "id": "iM25RUgXqX8h"
      },
      "outputs": [],
      "source": [
        "from scipy.optimize import curve_fit\n",
        "par, cov = curve_fit(correlation, xdata, ydata)\n",
        "\n",
        "print('C = ', par[0])\n",
        "print('m = ', par[1])\n",
        "print('n = ', par[2])\n"
      ]
    },
    {
      "cell_type": "markdown",
      "metadata": {
        "id": "OLnTJgRZvBef"
      },
      "source": [
        "We can now plot the data and the correlation we obtained."
      ]
    },
    {
      "cell_type": "code",
      "execution_count": null,
      "metadata": {
        "id": "5-915owAs6ij"
      },
      "outputs": [],
      "source": [
        "import matplotlib.pyplot as plt\n",
        "\n",
        "fig = plt.figure()\n",
        "ax = fig.add_subplot(111)\n",
        "ax.scatter(air_Re, air_Nu, label = 'Pr = %.3f' %(air_Pr))\n",
        "ax.plot(air_Re, correlation(np.vstack((air_Re, air_Pr*np.ones(5))),par[0], par[1], par[2]))\n",
        "ax.scatter(oil_Re, oil_Nu, label = 'Pr = %.0f' %(oil_Pr))\n",
        "ax.plot(oil_Re, correlation(np.vstack((oil_Re, oil_Pr*np.ones(5))),par[0], par[1], par[2]))\n",
        "ax.scatter(glycol_Re, glycol_Nu, label = 'Pr = %.0f' %(glycol_Pr))\n",
        "ax.plot(glycol_Re, correlation(np.vstack((glycol_Re, glycol_Pr*np.ones(5))),par[0], par[1], par[2]))\n",
        "ax.scatter(water_Re, water_Nu, label = 'Pr = %.2f' %(water_Pr))\n",
        "ax.plot(water_Re, correlation(np.vstack((water_Re, water_Pr*np.ones(5))),par[0], par[1], par[2]))\n",
        "ax.set_ylabel('Nu')\n",
        "ax.set_xlabel('Re')\n",
        "ax.legend()"
      ]
    }
  ],
  "metadata": {
    "colab": {
      "collapsed_sections": [],
      "name": "empirical_method.ipynb",
      "provenance": []
    },
    "kernelspec": {
      "display_name": "Python 3",
      "name": "python3"
    },
    "language_info": {
      "name": "python"
    }
  },
  "nbformat": 4,
  "nbformat_minor": 0
}
